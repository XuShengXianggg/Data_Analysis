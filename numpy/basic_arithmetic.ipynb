{
 "cells": [
  {
   "cell_type": "markdown",
   "id": "0a0d39be-eea8-420a-a13c-415cf3ef7fe4",
   "metadata": {},
   "source": [
    "# numpy基础运算"
   ]
  },
  {
   "cell_type": "code",
   "execution_count": 21,
   "id": "dd93f59a-1ab1-48e5-aa0e-a078d217987d",
   "metadata": {
    "execution": {
     "iopub.execute_input": "2024-03-18T07:10:49.920891Z",
     "iopub.status.busy": "2024-03-18T07:10:49.920336Z",
     "iopub.status.idle": "2024-03-18T07:10:49.928227Z",
     "shell.execute_reply": "2024-03-18T07:10:49.927432Z",
     "shell.execute_reply.started": "2024-03-18T07:10:49.920857Z"
    },
    "scrolled": true
   },
   "outputs": [
    {
     "name": "stdout",
     "output_type": "stream",
     "text": [
      "type(np.array)= <class 'numpy.ndarray'>\r\n",
      "t1: [1 2 3 4 5]\r\n",
      "t2: [0 1 2 3 4 5]\r\n",
      "t3: [0 1 2 3 4 5]\r\n",
      "t4: [4 6 8]\r\n",
      "type(t4[0])= int64\r\n"
     ]
    }
   ],
   "source": [
    "import numpy as np\r\n",
    "\r\n",
    "t1 = np.array([1, 2, 3, 4, 5])\r\n",
    "# numpy数组类型为numpy.ndarray\r\n",
    "print(\"type(np.array)=\", type(t1))\r\n",
    "\r\n",
    "t2 = np.array(range(6))\r\n",
    "print(\"t1:\", t1)\r\n",
    "print(\"t2:\", t2)\r\n",
    "\r\n",
    "# np.arange([start,] stop [, stop, ], dtype=None)\r\n",
    "# np.arange()和range类似的生成数据列表的方式\r\n",
    "\r\n",
    "t3 = np.arange(6)\r\n",
    "t4 = np.arange(4, 10, 2)\r\n",
    "print(\"t3:\", t3)\r\n",
    "print(\"t4:\", t4)\r\n",
    "\r\n",
    "# 可以用dtype来查看numpy数组元素的类型\r\n",
    "print(\"type(t4[0])=\", t4.dtype)"
   ]
  },
  {
   "cell_type": "code",
   "execution_count": 22,
   "id": "5107f513-852e-4527-8590-f65c5f31c8d3",
   "metadata": {
    "execution": {
     "iopub.execute_input": "2024-03-18T07:10:49.930239Z",
     "iopub.status.busy": "2024-03-18T07:10:49.929890Z",
     "iopub.status.idle": "2024-03-18T07:10:49.937824Z",
     "shell.execute_reply": "2024-03-18T07:10:49.936954Z",
     "shell.execute_reply.started": "2024-03-18T07:10:49.930214Z"
    },
    "scrolled": true
   },
   "outputs": [
    {
     "name": "stdout",
     "output_type": "stream",
     "text": [
      "type(t5[0])= float64\r\n",
      "t5= [0. 1. 2.]\r\n",
      "type(t6[0])= bool\r\n",
      "t6= [ True False  True False]\r\n",
      "type(t5[0])= int64\r\n",
      "t5: [0 1 2]\r\n",
      "t7: [0.2024711  0.40822064 0.14469409 0.18430417 0.70898593]\r\n",
      "t7: [0.2  0.41 0.14 0.18 0.71]\r\n"
     ]
    }
   ],
   "source": [
    "import random\r\n",
    "\r\n",
    "# 指定创建的数组的数据类型\r\n",
    "t5 = np.arange(3, dtype=float)\r\n",
    "print(\"type(t5[0])=\", t5.dtype)\r\n",
    "print(\"t5=\", t5)\r\n",
    "\r\n",
    "t6= np.array([1, 0, 1, 0], dtype=bool)\r\n",
    "print(\"type(t6[0])=\", t6.dtype)\r\n",
    "print(\"t6=\", t6)\r\n",
    "\r\n",
    "# 修改数组的数据类型\r\n",
    "t5 = t5.astype(int)\r\n",
    "print(\"type(t5[0])=\", t5.dtype)\r\n",
    "print(\"t5:\", t5)\r\n",
    "\r\n",
    "t7 = np.array([random.random() for i in range(5)])\r\n",
    "print(\"t7:\", t7)\r\n",
    "# 修改浮点型的小数位数\r\n",
    "t7 = np.round(t7, 2)\r\n",
    "print(\"t7:\", t7)"
   ]
  },
  {
   "cell_type": "code",
   "execution_count": 23,
   "id": "d5cf4851-0aa7-4974-93f4-483c1be2fe9a",
   "metadata": {
    "execution": {
     "iopub.execute_input": "2024-03-18T07:10:49.939499Z",
     "iopub.status.busy": "2024-03-18T07:10:49.939143Z",
     "iopub.status.idle": "2024-03-18T07:10:49.949101Z",
     "shell.execute_reply": "2024-03-18T07:10:49.948273Z",
     "shell.execute_reply.started": "2024-03-18T07:10:49.939463Z"
    },
    "scrolled": true
   },
   "outputs": [
    {
     "name": "stdout",
     "output_type": "stream",
     "text": [
      "a (6,)\r\n",
      "b (2, 3)\r\n",
      "c (2, 2, 3)\r\n",
      "\r\n",
      "d1: [ 0  1  2  3  4  5  6  7  8  9 10 11]\r\n",
      "d2: [[ 0  1  2  3]\r\n",
      " [ 4  5  6  7]\r\n",
      " [ 8  9 10 11]]\r\n",
      "\r\n",
      "e1: [[[ 0  1  2  3]\r\n",
      "  [ 4  5  6  7]\r\n",
      "  [ 8  9 10 11]]\r\n",
      "\r\n",
      " [[12 13 14 15]\r\n",
      "  [16 17 18 19]\r\n",
      "  [20 21 22 23]]] \r\n",
      "\r\n",
      "e2: [[ 0  1  2  3  4  5]\r\n",
      " [ 6  7  8  9 10 11]\r\n",
      " [12 13 14 15 16 17]\r\n",
      " [18 19 20 21 22 23]] \r\n",
      "\r\n",
      "e3: [ 0  1  2  3  4  5  6  7  8  9 10 11 12 13 14 15 16 17 18 19 20 21 22 23] \r\n",
      "\r\n",
      "e4: [[ 0  1  2  3  4  5  6  7  8  9 10 11 12 13 14 15 16 17 18 19 20 21 22 23]] \r\n",
      "\r\n",
      "e5: [ 0  1  2  3  4  5  6  7  8  9 10 11 12 13 14 15 16 17 18 19 20 21 22 23] \r\n",
      "\r\n"
     ]
    }
   ],
   "source": [
    "# 一维数组的shape是元素个数\n",
    "a = np.arange(6)\n",
    "print(\"a\", a.shape)\n",
    "\n",
    "# 多维数组的shape是每个维度的元素个数, 即数组的形状\n",
    "# (2, 3) 表示2行3列\n",
    "b = np.array([[1, 2, 3], [4, 5, 6]])\n",
    "print(\"b\", b.shape)\n",
    "\n",
    "# (2, 2, 3)表示2块2行3列\n",
    "c = np.array([[[1, 2, 3], [4, 5, 6]], [[7, 8, 9], [10, 11, 12]]])\n",
    "print(\"c\", c.shape)\n",
    "\n",
    "print()\n",
    "# reshape()修改数组的形状\n",
    "d = np.arange(12)\n",
    "print(\"d1:\", d)\n",
    "d = d.reshape((3, 4))\n",
    "print(\"d2:\", d)\n",
    "\n",
    "print()\n",
    "# 2块3行4列\n",
    "e = np.arange(24).reshape(2, 3, 4)\n",
    "print(\"e1:\", e, '\\n')\n",
    "\n",
    "# 4行6列\n",
    "e = e.reshape((4, 6))\n",
    "print(\"e2:\", e, '\\n')\n",
    "\n",
    "# 一维数组\n",
    "e = e.reshape(24)\n",
    "print(\"e3:\", e, '\\n')\n",
    "\n",
    "# 1行24列\n",
    "e = e.reshape((1, 24))\n",
    "print(\"e4:\", e, '\\n')\n",
    "\n",
    "# 扁平化，转换为一维数组\n",
    "# 要注意一维数组和1行24列的区别, 1行24列会多一个括号\n",
    "e = e.flatten()\n",
    "print(\"e5:\", e, '\\n')\n",
    "\n",
    "# 24行1列\n",
    "# e = e.reshape((24, 1))\n",
    "# print(\"e:\", e, '\\n')"
   ]
  },
  {
   "cell_type": "code",
   "execution_count": 24,
   "id": "243ea947-2c38-46d1-bb14-451ea3ea47b1",
   "metadata": {
    "execution": {
     "iopub.execute_input": "2024-03-18T07:10:49.950436Z",
     "iopub.status.busy": "2024-03-18T07:10:49.950166Z",
     "iopub.status.idle": "2024-03-18T07:10:49.956560Z",
     "shell.execute_reply": "2024-03-18T07:10:49.955646Z",
     "shell.execute_reply.started": "2024-03-18T07:10:49.950411Z"
    },
    "scrolled": true
   },
   "outputs": [
    {
     "name": "stdout",
     "output_type": "stream",
     "text": [
      "[8 5 8 5 2 4 2 9 2 2]\r\n",
      "[ 9  6  9  6  3  5  3 10  3  3]\r\n",
      "[27 18 27 18  9 15  9 30  9  9]\r\n"
     ]
    }
   ],
   "source": [
    "# 数组和数的计算, 由于广播机制, 运算会被广播到数组的所有元素上\n",
    "a = np.array([random.randint(1 ,10) for i in range(10)])\n",
    "print(a)\n",
    "\n",
    "a = a + 1\n",
    "print(a)\n",
    "\n",
    "a = a * 3\n",
    "print(a)"
   ]
  },
  {
   "cell_type": "code",
   "execution_count": 25,
   "id": "8c2b6653-2450-46f4-ab64-6866be362d84",
   "metadata": {
    "execution": {
     "iopub.execute_input": "2024-03-18T07:10:49.959033Z",
     "iopub.status.busy": "2024-03-18T07:10:49.958632Z",
     "iopub.status.idle": "2024-03-18T07:10:49.965450Z",
     "shell.execute_reply": "2024-03-18T07:10:49.964684Z",
     "shell.execute_reply.started": "2024-03-18T07:10:49.958993Z"
    },
    "scrolled": true
   },
   "outputs": [
    {
     "name": "stdout",
     "output_type": "stream",
     "text": [
      "a:\r\n",
      "[[ 1  2  3  4  5  6]\r\n",
      " [ 7  8  9 10 11 12]\r\n",
      " [13 14 15 16 17 18]\r\n",
      " [19 20 21 22 23 24]]\r\n",
      "b:\r\n",
      "[[100 101 102 103 104 105]\r\n",
      " [106 107 108 109 110 111]\r\n",
      " [112 113 114 115 116 117]\r\n",
      " [118 119 120 121 122 123]]\r\n",
      "a+b:\r\n",
      "[[101 103 105 107 109 111]\r\n",
      " [113 115 117 119 121 123]\r\n",
      " [125 127 129 131 133 135]\r\n",
      " [137 139 141 143 145 147]]\r\n",
      "a*b:\r\n",
      "[[ 100  202  306  412  520  630]\r\n",
      " [ 742  856  972 1090 1210 1332]\r\n",
      " [1456 1582 1710 1840 1972 2106]\r\n",
      " [2242 2380 2520 2662 2806 2952]]\r\n"
     ]
    }
   ],
   "source": [
    "# 数组和数组的计算, 对应位置的元素相加减\n",
    "a = np.arange(1, 25).reshape((4, 6))\n",
    "b = np.arange(100, 124).reshape((4, 6))\n",
    "print(\"a:\", a, sep='\\n')\n",
    "print(\"b:\", b, sep='\\n')\n",
    "print(\"a+b:\", a + b, sep='\\n')\n",
    "print(\"a*b:\", a * b, sep='\\n')\n",
    "\n",
    "# 如果两个数组的维度不对应, 也可以计算, 但是仅限于有一个维度相同的情况下才可以进行运算\n",
    "# 其余情况下维度不同的数组不能进行运算"
   ]
  },
  {
   "cell_type": "markdown",
   "id": "8f3ccfb9-3b47-452b-85f2-001144a1cfcf",
   "metadata": {},
   "source": [
    "**广播原则**：\n",
    "如果两个数组的后缘维度（从末尾开始算起的维度）的轴长度相符或者其中一方的长度为1，则认为是广播兼容的。\n",
    "\n",
    "维度可以理解为shape所对应的数字个数。\n",
    "\n",
    "shape为(3,3,3)的数组**不能**够和(3,2)的数组进行计算\n",
    "\n",
    "shape为(3,3,2)的数组**能**够和(3,2)的数组进行计算\n",
    "\n",
    "shape为(3,3,2)的数组**能**够和(3,1)的数组进行计算"
   ]
  },
  {
   "cell_type": "code",
   "execution_count": 26,
   "id": "78997b23-0730-45cf-8093-0522a7e37ea0",
   "metadata": {
    "execution": {
     "iopub.execute_input": "2024-03-18T07:10:49.967134Z",
     "iopub.status.busy": "2024-03-18T07:10:49.966592Z",
     "iopub.status.idle": "2024-03-18T07:10:49.972793Z",
     "shell.execute_reply": "2024-03-18T07:10:49.972007Z",
     "shell.execute_reply.started": "2024-03-18T07:10:49.967107Z"
    },
    "scrolled": true
   },
   "outputs": [
    {
     "name": "stdout",
     "output_type": "stream",
     "text": [
      "[[ 0  1  2  3  4  5]\r\n",
      " [ 6  7  8  9 10 11]\r\n",
      " [12 13 14 15 16 17]\r\n",
      " [18 19 20 21 22 23]]\r\n",
      "[0 1 2 3 4 5]\r\n",
      "[[ 0  2  4  6  8 10]\r\n",
      " [ 6  8 10 12 14 16]\r\n",
      " [12 14 16 18 20 22]\r\n",
      " [18 20 22 24 26 28]]\r\n"
     ]
    }
   ],
   "source": [
    "# 有一个维度是1的情况\r\n",
    "a = np.arange(24).reshape(4, 6)\r\n",
    "print(a)\r\n",
    "\r\n",
    "b = np.arange(6)\r\n",
    "print(b)\r\n",
    "\r\n",
    "print(a + b)"
   ]
  },
  {
   "cell_type": "code",
   "execution_count": 27,
   "id": "9df4abda-fd1e-44aa-916b-73dc219d4ce1",
   "metadata": {
    "execution": {
     "iopub.execute_input": "2024-03-18T07:10:49.974298Z",
     "iopub.status.busy": "2024-03-18T07:10:49.974036Z",
     "iopub.status.idle": "2024-03-18T07:10:49.981949Z",
     "shell.execute_reply": "2024-03-18T07:10:49.981099Z",
     "shell.execute_reply.started": "2024-03-18T07:10:49.974274Z"
    },
    "scrolled": true
   },
   "outputs": [
    {
     "name": "stdout",
     "output_type": "stream",
     "text": [
      "[[[ 0  1  2  3  4  5]\r\n",
      "  [ 6  7  8  9 10 11]\r\n",
      "  [12 13 14 15 16 17]\r\n",
      "  [18 19 20 21 22 23]]\r\n",
      "\r\n",
      " [[24 25 26 27 28 29]\r\n",
      "  [30 31 32 33 34 35]\r\n",
      "  [36 37 38 39 40 41]\r\n",
      "  [42 43 44 45 46 47]]]\r\n",
      "[[ 0  1  2  3  4  5]\r\n",
      " [ 6  7  8  9 10 11]\r\n",
      " [12 13 14 15 16 17]\r\n",
      " [18 19 20 21 22 23]]\r\n",
      "[[[ 0  2  4  6  8 10]\r\n",
      "  [12 14 16 18 20 22]\r\n",
      "  [24 26 28 30 32 34]\r\n",
      "  [36 38 40 42 44 46]]\r\n",
      "\r\n",
      " [[24 26 28 30 32 34]\r\n",
      "  [36 38 40 42 44 46]\r\n",
      "  [48 50 52 54 56 58]\r\n",
      "  [60 62 64 66 68 70]]]\r\n"
     ]
    }
   ],
   "source": [
    "# 后缘维度相同的情况\r\n",
    "a = np.arange(48).reshape(2, 4, 6)\r\n",
    "print(a)\r\n",
    "\r\n",
    "b = np.arange(24).reshape(4, 6)\r\n",
    "print(b)\r\n",
    "\r\n",
    "print(a + b)"
   ]
  },
  {
   "cell_type": "markdown",
   "id": "acdab620-7c7e-47f2-af5e-dec1085d3624",
   "metadata": {},
   "source": [
    "轴(axis)在numpy中可以理解为方向, 使用0,1,2...数字表示,对于一个一维数组,只有一个0轴,对于2维数组(shape(2,2)),有0轴和1轴,对于三维数组(shape(2,2, 3)),有0,1,2轴。\n",
    "\n",
    "np.arange(0,10).reshape((2,5))的reshpe中2表示0轴长度(包含数据的条数)为2,1轴长度为5,2\\*5一共10个数据\n",
    "\n",
    "\n",
    "对于一维数组只有一个维度, 不再举例。\n",
    "\n",
    "对于二维数组, 有0轴和1轴, 那么横着为0轴, 竖着为1轴\n",
    "\n",
    "对于三维数组, 有0轴1轴和2轴, 那么0轴表示第几个块, 然后横着为1轴, 竖着为2轴。"
   ]
  }
 ],
 "metadata": {
  "kernelspec": {
   "display_name": "Python 3",
   "language": "python",
   "name": "py35-paddle1.2.0"
  },
  "language_info": {
   "codemirror_mode": {
    "name": "ipython",
    "version": 3
   },
   "file_extension": ".py",
   "mimetype": "text/x-python",
   "name": "python",
   "nbconvert_exporter": "python",
   "pygments_lexer": "ipython3",
   "version": "3.10.10"
  }
 },
 "nbformat": 4,
 "nbformat_minor": 5
}
