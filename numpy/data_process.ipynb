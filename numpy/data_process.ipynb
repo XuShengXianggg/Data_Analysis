{
 "cells": [
  {
   "cell_type": "markdown",
   "id": "c4dc4d8f-a34c-4f4f-8b22-6c0fef6b0901",
   "metadata": {},
   "source": [
    "# numpy数据操作"
   ]
  },
  {
   "cell_type": "markdown",
   "id": "471b0c64-8a92-4520-8e25-b6cf88ff8f7c",
   "metadata": {},
   "source": [
    "## 读取数据"
   ]
  },
  {
   "cell_type": "code",
   "execution_count": 15,
   "id": "a5f04c50-37be-488f-845e-126ac8e4ac19",
   "metadata": {
    "execution": {
     "iopub.execute_input": "2024-03-18T08:56:34.747028Z",
     "iopub.status.busy": "2024-03-18T08:56:34.746430Z",
     "iopub.status.idle": "2024-03-18T08:56:34.751552Z",
     "shell.execute_reply": "2024-03-18T08:56:34.750723Z",
     "shell.execute_reply.started": "2024-03-18T08:56:34.746998Z"
    },
    "scrolled": true
   },
   "outputs": [],
   "source": [
    "# numpy读取数据\n",
    "\n",
    "# np.loadtxt(\n",
    "#     fname,                  文件、字符串或产生器地址, 也可以是压缩文件\n",
    "#     dtype=np.float,         数据类型, 可选, 即确认csv的字符串以什么数据类型读入数组中, 默认为np.float\n",
    "#     delimiter=None,         分割读取的字符串, 默认是空格, 读取csv时通常改为逗号\n",
    "#     skiprows=0,             跳过前x行, 一般可以设置为跳过第一行表头\n",
    "#     usecols=None,           读取指定的列, 索引, 元组类型\n",
    "#     unpack=False            如果True, 读入属性将分别写入不同数组变量, Flase读入数据只写入一个数组变量, 默认False\n",
    "#     )"
   ]
  },
  {
   "cell_type": "code",
   "execution_count": 16,
   "id": "0054582c-2c62-46eb-b5b0-0cd447d02a76",
   "metadata": {
    "execution": {
     "iopub.execute_input": "2024-03-18T08:56:34.758987Z",
     "iopub.status.busy": "2024-03-18T08:56:34.758585Z",
     "iopub.status.idle": "2024-03-18T08:56:34.833612Z",
     "shell.execute_reply": "2024-03-18T08:56:34.832461Z",
     "shell.execute_reply.started": "2024-03-18T08:56:34.758960Z"
    },
    "scrolled": true
   },
   "outputs": [
    {
     "name": "stdout",
     "output_type": "stream",
     "text": [
      "[[4394029  320053    5931   46245]\r\n",
      " [7860119  185853   26679       0]\r\n",
      " [5845909  576597   39774  170708]\r\n",
      " ...\r\n",
      " [ 142463    4231     148     279]\r\n",
      " [2162240   41032    1384    4737]\r\n",
      " [ 515000   34727     195    4722]] \r\n",
      "\r\n",
      "[[4394029 7860119 5845909 ...  142463 2162240  515000]\r\n",
      " [ 320053  185853  576597 ...    4231   41032   34727]\r\n",
      " [   5931   26679   39774 ...     148    1384     195]\r\n",
      " [  46245       0  170708 ...     279    4737    4722]]\r\n"
     ]
    }
   ],
   "source": [
    "import numpy as np\n",
    "\n",
    "us_file_path = \"./youtube_video_data/US_video_data_numbers.csv\"\n",
    "uk_file_path = \"./youtube_video_data/GB_video_data_numbers.csv\"\n",
    "\n",
    "t1 = np.loadtxt(us_file_path, dtype=\"int\", delimiter=\",\")\n",
    "print(t1, '\\n')\n",
    "\n",
    "# 从结果可以看出unpack的效果是对读取结果进行转置\n",
    "t2 = np.loadtxt(us_file_path, dtype=\"int\", delimiter=\",\", unpack=True)\n",
    "print(t2)"
   ]
  },
  {
   "cell_type": "code",
   "execution_count": 17,
   "id": "e3a5ce58-883b-49c0-b117-8081a4eda286",
   "metadata": {
    "execution": {
     "iopub.execute_input": "2024-03-18T08:56:34.835568Z",
     "iopub.status.busy": "2024-03-18T08:56:34.835235Z",
     "iopub.status.idle": "2024-03-18T08:56:34.902175Z",
     "shell.execute_reply": "2024-03-18T08:56:34.901058Z",
     "shell.execute_reply.started": "2024-03-18T08:56:34.835540Z"
    },
    "scrolled": true
   },
   "outputs": [
    {
     "name": "stdout",
     "output_type": "stream",
     "text": [
      "[[ 0  4  8]\r\n",
      " [ 1  5  9]\r\n",
      " [ 2  6 10]\r\n",
      " [ 3  7 11]] \r\n",
      "\r\n",
      "[[ 0  4  8]\r\n",
      " [ 1  5  9]\r\n",
      " [ 2  6 10]\r\n",
      " [ 3  7 11]]\r\n"
     ]
    }
   ],
   "source": [
    "# 转置的两种方法\n",
    "t1 = np.array([\n",
    "    [0, 1, 2, 3],\n",
    "    [4, 5, 6, 7],\n",
    "    [8, 9, 10, 11]\n",
    "])\n",
    "t1 = t1.transpose()\n",
    "print(t1, '\\n')\n",
    "\n",
    "t2 = np.array([\n",
    "    [0, 1, 2, 3],\n",
    "    [4, 5, 6, 7],\n",
    "    [8, 9, 10, 11]\n",
    "])\n",
    "t2 = t2.swapaxes(1, 0)\n",
    "print(t2)"
   ]
  },
  {
   "cell_type": "markdown",
   "id": "b945c5fc-93fd-434b-9b63-6ffa80330c89",
   "metadata": {},
   "source": [
    "## 索引和切片"
   ]
  },
  {
   "cell_type": "code",
   "execution_count": 18,
   "id": "c94b4d20-e172-4193-bb71-5906893e6752",
   "metadata": {
    "execution": {
     "iopub.execute_input": "2024-03-18T08:56:34.904043Z",
     "iopub.status.busy": "2024-03-18T08:56:34.903286Z",
     "iopub.status.idle": "2024-03-18T08:56:34.982134Z",
     "shell.execute_reply": "2024-03-18T08:56:34.981175Z",
     "shell.execute_reply.started": "2024-03-18T08:56:34.904012Z"
    },
    "scrolled": true
   },
   "outputs": [
    {
     "name": "stdout",
     "output_type": "stream",
     "text": [
      "[[4394029  320053    5931   46245]\r\n",
      " [7860119  185853   26679       0]\r\n",
      " [5845909  576597   39774  170708]\r\n",
      " ...\r\n",
      " [ 142463    4231     148     279]\r\n",
      " [2162240   41032    1384    4737]\r\n",
      " [ 515000   34727     195    4722]]\r\n",
      "**************************************************\r\n",
      "[5845909  576597   39774  170708]\r\n",
      "[5845909  576597   39774  170708]\r\n",
      "**************************************************\r\n",
      "[[5845909  576597   39774  170708]\r\n",
      " [2642103   24975    4542   12829]\r\n",
      " [1168130   96666     568    6666]\r\n",
      " ...\r\n",
      " [ 142463    4231     148     279]\r\n",
      " [2162240   41032    1384    4737]\r\n",
      " [ 515000   34727     195    4722]]\r\n",
      "**************************************************\r\n",
      "[[5845909  576597   39774  170708]\r\n",
      " [1338533   69687     678    5643]\r\n",
      " [ 859289   34485     726    1914]]\r\n"
     ]
    }
   ],
   "source": [
    "t1 = np.loadtxt(us_file_path, dtype=\"int\", delimiter=\",\")\n",
    "print(t1)\n",
    "\n",
    "print(\"*\"*50)\n",
    "# 取第3行\n",
    "# t[2, :]和t[2]等价, 当后面全选时可以不写出来\n",
    "print(t1[2, :])\n",
    "print(t1[2])\n",
    "\n",
    "print(\"*\"*50)\n",
    "# 取连续的多行\n",
    "print(t1[2:])\n",
    "# 等价于print(t1[2:, :])\n",
    "\n",
    "print(\"*\"*50)\n",
    "# 取不连续的多行\n",
    "print(t1[[2, 8, 10]])\n",
    "# 等价于print(t1[[2, 8, 10], :])\n"
   ]
  },
  {
   "cell_type": "code",
   "execution_count": 19,
   "id": "9075dd48-c2b3-48ca-bab5-a65412ca4676",
   "metadata": {
    "execution": {
     "iopub.execute_input": "2024-03-18T08:56:34.984525Z",
     "iopub.status.busy": "2024-03-18T08:56:34.984125Z",
     "iopub.status.idle": "2024-03-18T08:56:35.051634Z",
     "shell.execute_reply": "2024-03-18T08:56:35.050725Z",
     "shell.execute_reply.started": "2024-03-18T08:56:34.984497Z"
    },
    "scrolled": true
   },
   "outputs": [
    {
     "name": "stdout",
     "output_type": "stream",
     "text": [
      "[[4394029  320053    5931   46245]\r\n",
      " [7860119  185853   26679       0]\r\n",
      " [5845909  576597   39774  170708]\r\n",
      " ...\r\n",
      " [ 142463    4231     148     279]\r\n",
      " [2162240   41032    1384    4737]\r\n",
      " [ 515000   34727     195    4722]]\r\n",
      "**************************************************\r\n",
      "[4394029 7860119 5845909 ...  142463 2162240  515000]\r\n",
      "**************************************************\r\n",
      "[[  5931  46245]\r\n",
      " [ 26679      0]\r\n",
      " [ 39774 170708]\r\n",
      " ...\r\n",
      " [   148    279]\r\n",
      " [  1384   4737]\r\n",
      " [   195   4722]]\r\n",
      "**************************************************\r\n",
      "[[4394029    5931]\r\n",
      " [7860119   26679]\r\n",
      " [5845909   39774]\r\n",
      " ...\r\n",
      " [ 142463     148]\r\n",
      " [2162240    1384]\r\n",
      " [ 515000     195]]\r\n",
      "**************************************************\r\n",
      "170708 <class 'numpy.int64'>\r\n",
      "**************************************************\r\n",
      "[[576597  39774 170708]\r\n",
      " [ 24975   4542  12829]\r\n",
      " [ 96666    568   6666]]\r\n",
      "**************************************************\r\n",
      "[4394029  170708]\r\n"
     ]
    }
   ],
   "source": [
    "print(t1)\n",
    "print(\"*\"*50)\n",
    "\n",
    "# 取第0列\n",
    "print(t1[:, 0])\n",
    "\n",
    "print(\"*\"*50)\n",
    "# 取连续多列\n",
    "print(t1[:, 2:])\n",
    "\n",
    "print(\"*\"*50)\n",
    "# 取不连续多列\n",
    "print(t1[:, [0, 2]])\n",
    "\n",
    "print(\"*\"*50)\n",
    "# 取特定行列的值, 取第3行第4列的值\n",
    "print(t1[2, 3], type(t1[2, 3]))\n",
    "\n",
    "print(\"*\"*50)\n",
    "# 取多行多列, 取第3-5行, 第2-4列的结果, 左闭右开区间\n",
    "print(t1[2:5, 1:4])\n",
    "\n",
    "print(\"*\"*50)\n",
    "# 取不相连的多个点\n",
    "# [横坐标列表, 纵坐标列表]\n",
    "print(t1[[0, 2], [0, 3]])"
   ]
  },
  {
   "cell_type": "code",
   "execution_count": 20,
   "id": "4ca9d6da-6283-425a-88b2-8c760cda44c2",
   "metadata": {
    "execution": {
     "iopub.execute_input": "2024-03-18T08:56:35.053263Z",
     "iopub.status.busy": "2024-03-18T08:56:35.052834Z",
     "iopub.status.idle": "2024-03-18T08:56:35.091137Z",
     "shell.execute_reply": "2024-03-18T08:56:35.090227Z",
     "shell.execute_reply.started": "2024-03-18T08:56:35.053233Z"
    },
    "scrolled": true
   },
   "outputs": [
    {
     "name": "stdout",
     "output_type": "stream",
     "text": [
      "[[ 0  1  2  3  4  5]\r\n",
      " [ 6  7  8  9 10 11]\r\n",
      " [12 13 14 15 16 17]\r\n",
      " [18 19 20 21 22 23]]\r\n",
      "**************************************************\r\n",
      "[[ True  True  True  True  True  True]\r\n",
      " [ True  True  True  True False False]\r\n",
      " [False False False False False False]\r\n",
      " [False False False False False False]]\r\n",
      "**************************************************\r\n",
      "[[ 3  3  3  3  3  3]\r\n",
      " [ 3  3  3  3 10 11]\r\n",
      " [12 13 14 15 16 17]\r\n",
      " [18 19 20 21 22 23]]\r\n",
      "**************************************************\r\n",
      "[21 22 23]\r\n"
     ]
    }
   ],
   "source": [
    "# 布尔索引, 条件筛选\n",
    "t2 = np.arange(24).reshape((4, 6))\n",
    "print(t2)\n",
    "\n",
    "print(\"*\"*50)\n",
    "# 布尔表达式负责筛选\n",
    "print(t2<10)\n",
    "\n",
    "print(\"*\"*50)\n",
    "t2[t2<10] = 3\n",
    "print(t2)\n",
    "\n",
    "print(\"*\"*50)\n",
    "print(t2[t2>20])"
   ]
  },
  {
   "cell_type": "code",
   "execution_count": 21,
   "id": "e0e7ea43-06bc-483c-9eb4-7057bd808ad2",
   "metadata": {
    "execution": {
     "iopub.execute_input": "2024-03-18T08:56:35.092788Z",
     "iopub.status.busy": "2024-03-18T08:56:35.092507Z",
     "iopub.status.idle": "2024-03-18T08:56:35.131521Z",
     "shell.execute_reply": "2024-03-18T08:56:35.130376Z",
     "shell.execute_reply.started": "2024-03-18T08:56:35.092763Z"
    },
    "scrolled": true
   },
   "outputs": [
    {
     "name": "stdout",
     "output_type": "stream",
     "text": [
      "[[ 3  3  3  3  3  3]\r\n",
      " [ 3  3  3  3 10 11]\r\n",
      " [12 13 14 15 16 17]\r\n",
      " [18 19 20 21 22 23]]\r\n"
     ]
    }
   ],
   "source": [
    "t3 = np.arange(24).reshape((4, 6))\n",
    "# 想把t中小于10的数字替换为0, 把大于10的替换为10\n",
    "# 三元运算符\n",
    "t3 = np.where(t3<10, 0, 10)\n",
    "print(t2)"
   ]
  },
  {
   "cell_type": "code",
   "execution_count": 22,
   "id": "053124f8-1dc9-4706-819d-7edc5b862462",
   "metadata": {
    "execution": {
     "iopub.execute_input": "2024-03-18T08:56:35.133195Z",
     "iopub.status.busy": "2024-03-18T08:56:35.132805Z",
     "iopub.status.idle": "2024-03-18T08:56:35.160612Z",
     "shell.execute_reply": "2024-03-18T08:56:35.159615Z",
     "shell.execute_reply.started": "2024-03-18T08:56:35.133168Z"
    },
    "scrolled": true,
    "tags": []
   },
   "outputs": [
    {
     "name": "stdout",
     "output_type": "stream",
     "text": [
      "[[ 0  1  2  3  4  5]\r\n",
      " [ 6  7  8  9 10 11]\r\n",
      " [12 13 14 15 16 17]\r\n",
      " [18 19 20 21 22 23]]\r\n",
      "**************************************************\r\n",
      "[[10 10 10 10 10 10]\r\n",
      " [10 10 10 10 10 11]\r\n",
      " [12 13 14 15 16 17]\r\n",
      " [18 19 20 20 20 20]]\r\n"
     ]
    }
   ],
   "source": [
    "# 想把t中小于10的数字替换为10, 把大于20的替换为20\n",
    "# 如果用bool三元操作需要两行\n",
    "# 可以使用clip裁剪操作, 即裁剪掉高的那部分和低的那部分, 留下中间的部分\n",
    "# clip(a, b) 裁剪掉小于a的和大于b的\n",
    "t4 = np.arange(24).reshape((4, 6))\n",
    "print(t4)\n",
    "print(\"*\"*50)\n",
    "t4 = t4.clip(10, 20)\n",
    "print(t4)"
   ]
  },
  {
   "cell_type": "markdown",
   "id": "a58e90d5-1e31-4a5a-bb57-2d2363424a54",
   "metadata": {},
   "source": [
    "英国和美国各自youtube1000的数据结合之前的matplotlib绘制出各自的评论数量的直方图"
   ]
  },
  {
   "cell_type": "code",
   "execution_count": 23,
   "id": "50cad7d3-3408-481f-912e-158ac5266bf0",
   "metadata": {
    "execution": {
     "iopub.execute_input": "2024-03-18T08:56:35.162744Z",
     "iopub.status.busy": "2024-03-18T08:56:35.161861Z",
     "iopub.status.idle": "2024-03-18T08:56:35.481144Z",
     "shell.execute_reply": "2024-03-18T08:56:35.480343Z",
     "shell.execute_reply.started": "2024-03-18T08:56:35.162714Z"
    },
    "scrolled": true
   },
   "outputs": [
    {
     "name": "stdout",
     "output_type": "stream",
     "text": [
      "582624 0\r\n"
     ]
    },
    {
     "data": {
      "image/png": "[encoded data removed]",
      "text/plain": [
       "<Figure size 1600x640 with 1 Axes>"
      ]
     },
     "metadata": {},
     "output_type": "display_data"
    }
   ],
   "source": [
    "import numpy as np\n",
    "from matplotlib import pyplot as plt\n",
    "\n",
    "us_file_path = \"./youtube_video_data/US_video_data_numbers.csv\"\n",
    "uk_file_path = \"./youtube_video_data/GB_video_data_numbers.csv\"\n",
    "\n",
    "t_us = np.loadtxt(us_file_path, dtype=\"int\", delimiter=\",\")\n",
    "\n",
    "# 取评论的数据(最后一列)\n",
    "t_us_comments = t_us[:, -1]\n",
    "\n",
    "# 计算极差\n",
    "print(t_us_comments.max(), t_us_comments.min())\n",
    "\n",
    "# 设置组距并计算组数\n",
    "d = 10000\n",
    "bin_nums = (t_us_comments.max() - t_us_comments.min()) // d\n",
    "\n",
    "plt.figure(figsize=(20, 8), dpi=80)\n",
    "plt.hist(t_us_comments, bin_nums)\n",
    "plt.show()"
   ]
  },
  {
   "cell_type": "code",
   "execution_count": 24,
   "id": "65cf16fe-7d5a-4a39-b5c5-e27a5f1db14a",
   "metadata": {
    "execution": {
     "iopub.execute_input": "2024-03-18T08:56:35.482718Z",
     "iopub.status.busy": "2024-03-18T08:56:35.482304Z",
     "iopub.status.idle": "2024-03-18T08:56:35.957181Z",
     "shell.execute_reply": "2024-03-18T08:56:35.956230Z",
     "shell.execute_reply.started": "2024-03-18T08:56:35.482689Z"
    },
    "scrolled": true
   },
   "outputs": [
    {
     "data": {
      "image/png": "[encoded data removed]",
      "text/plain": [
       "<Figure size 1600x640 with 1 Axes>"
      ]
     },
     "metadata": {},
     "output_type": "display_data"
    }
   ],
   "source": [
    "# 可以看到后面的数据比较小, 可以只选择比5000小的数据\n",
    "t_us_comments = t_us_comments[t_us_comments<5000]\n",
    "\n",
    "d = 20\n",
    "bin_nums = (t_us_comments.max() - t_us_comments.min()) // d\n",
    "\n",
    "plt.figure(figsize=(20, 8), dpi=80)\n",
    "plt.hist(t_us_comments, bin_nums)\n",
    "plt.show()"
   ]
  },
  {
   "cell_type": "markdown",
   "id": "a4294368-e5ef-4aaf-872e-aad8cf6c860b",
   "metadata": {},
   "source": [
    "希望了解英国的youtube中视频的评论数和喜欢数的关系，应该如何绘制改图"
   ]
  },
  {
   "cell_type": "code",
   "execution_count": 25,
   "id": "75c06cb4-26e2-4e9d-a748-93fd47fcff9f",
   "metadata": {
    "execution": {
     "iopub.execute_input": "2024-03-18T08:56:35.960148Z",
     "iopub.status.busy": "2024-03-18T08:56:35.959735Z",
     "iopub.status.idle": "2024-03-18T08:56:36.183846Z",
     "shell.execute_reply": "2024-03-18T08:56:36.182828Z",
     "shell.execute_reply.started": "2024-03-18T08:56:35.960120Z"
    },
    "scrolled": true
   },
   "outputs": [
    {
     "data": {
      "image/png": "[encoded data removed]",
      "text/plain": [
       "<Figure size 1600x640 with 1 Axes>"
      ]
     },
     "metadata": {},
     "output_type": "display_data"
    }
   ],
   "source": [
    "# 表示关系, 可以绘制散点图\n",
    "uk_file_path = \"./youtube_video_data/GB_video_data_numbers.csv\"\n",
    "t_uk = np.loadtxt(us_file_path, dtype=\"int\", delimiter=\",\")\n",
    "\n",
    "t_uk_comment = t_uk[:, 3]\n",
    "t_uk_like = t_uk[:, 1]\n",
    "\n",
    "plt.figure(figsize=(20, 8), dpi=80)\n",
    "plt.scatter(t_uk_like, t_uk_comment)\n",
    "plt.show()"
   ]
  },
  {
   "cell_type": "code",
   "execution_count": null,
   "id": "97a0dc82-936a-4f27-a054-21e2f70ebf31",
   "metadata": {
    "execution": {
     "iopub.execute_input": "2024-03-18T08:56:36.185359Z",
     "iopub.status.busy": "2024-03-18T08:56:36.185034Z"
    },
    "scrolled": true
   },
   "outputs": [],
   "source": [
    "# 可以看出喜欢数量大于5e5的比较少\n",
    "# 需要直接对t_uk进行选择, 而不是对like数进行选择\n",
    "t_uk = t_uk[t_uk[:,1]<500000]\n",
    "\n",
    "t_uk_comment = t_uk[:, 3]\n",
    "t_uk_like = t_uk[:, 1]\n",
    "\n",
    "plt.figure(figsize=(20, 8), dpi=80)\n",
    "plt.scatter(t_uk_like, t_uk_comment)\n",
    "plt.show()"
   ]
  },
  {
   "cell_type": "code",
   "execution_count": null,
   "id": "715f4ea2-f471-4f03-9844-5d81830b1401",
   "metadata": {
    "scrolled": true,
    "tags": []
   },
   "outputs": [],
   "source": [
    "# 可以看到小于1e5的很密集\n",
    "t_uk = t_uk[t_uk[:,1]<100000]\n",
    "\n",
    "t_uk_comment = t_uk[:, 3]\n",
    "t_uk_like = t_uk[:, 1]\n",
    "\n",
    "plt.figure(figsize=(20, 8), dpi=80)\n",
    "plt.scatter(t_uk_like, t_uk_comment)\n",
    "plt.show()"
   ]
  }
 ],
 "metadata": {
  "kernelspec": {
   "display_name": "Python 3",
   "language": "python",
   "name": "py35-paddle1.2.0"
  },
  "language_info": {
   "codemirror_mode": {
    "name": "ipython",
    "version": 3
   },
   "file_extension": ".py",
   "mimetype": "text/x-python",
   "name": "python",
   "nbconvert_exporter": "python",
   "pygments_lexer": "ipython3",
   "version": "3.10.10"
  }
 },
 "nbformat": 4,
 "nbformat_minor": 5
}
