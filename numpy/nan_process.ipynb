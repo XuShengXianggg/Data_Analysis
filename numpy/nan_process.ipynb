{
 "cells": [
  {
   "cell_type": "markdown",
   "id": "fcd43309-ec5e-422c-bf88-28ce71b32dd9",
   "metadata": {},
   "source": [
    "# numpyNaN"
   ]
  },
  {
   "cell_type": "markdown",
   "id": "ec5d6b8c-79b4-4b9f-97c1-2c7b07c32178",
   "metadata": {},
   "source": [
    "**nan**(NAN,Nan):not a number表示不是一个数字\n",
    "\n",
    "什么时候numpy中会出现nan：\n",
    "1. 当我们读取本地的文件为**float**的时候，如果有缺失，就会出现nan\n",
    "2. 当做了一个不合适的计算的时候(比如无穷大(inf)减去无穷大)\n",
    "\n",
    "**inf**(-inf,inf):infinity,inf表示正无穷，-inf表示负无穷\n",
    "\n",
    "什么时候回出现inf包括（-inf，+inf）\n",
    "1. 比如一个数字除以0，（python中直接会报错，numpy中是一个inf或者-inf"
   ]
  },
  {
   "cell_type": "code",
   "execution_count": 2,
   "id": "6af091b1-6278-4055-a18d-9aa47453ff7a",
   "metadata": {
    "execution": {
     "iopub.execute_input": "2024-03-18T10:35:38.920935Z",
     "iopub.status.busy": "2024-03-18T10:35:38.920437Z",
     "iopub.status.idle": "2024-03-18T10:35:39.296401Z",
     "shell.execute_reply": "2024-03-18T10:35:39.295659Z",
     "shell.execute_reply.started": "2024-03-18T10:35:38.920902Z"
    },
    "scrolled": true
   },
   "outputs": [
    {
     "name": "stdout",
     "output_type": "stream",
     "text": [
      "<class 'float'>\r\n",
      "<class 'float'>\r\n"
     ]
    }
   ],
   "source": [
    "import numpy as np\n",
    "\n",
    "# inf和nan都是float类型98\n",
    "a = np.inf\n",
    "print(type(a))\n",
    "\n",
    "b = np.nan\n",
    "print(type(b))"
   ]
  },
  {
   "cell_type": "code",
   "execution_count": 3,
   "id": "f56dc330-eb8e-4cb9-8c92-22d022a34e24",
   "metadata": {
    "execution": {
     "iopub.execute_input": "2024-03-18T10:35:39.298419Z",
     "iopub.status.busy": "2024-03-18T10:35:39.297854Z",
     "iopub.status.idle": "2024-03-18T10:35:39.305617Z",
     "shell.execute_reply": "2024-03-18T10:35:39.304937Z",
     "shell.execute_reply.started": "2024-03-18T10:35:39.298389Z"
    },
    "scrolled": true
   },
   "outputs": [
    {
     "name": "stdout",
     "output_type": "stream",
     "text": [
      "nan==nan: False\r\n",
      "nan!=nan: True\r\n",
      "**************************************************\r\n",
      "[[ 0  1  2  3  4  5]\r\n",
      " [ 0  7  8  9 10 11]\r\n",
      " [ 0 13 14 15 16 17]\r\n",
      " [ 0 19 20 21 22 23]]\r\n",
      "20\r\n",
      "**************************************************\r\n",
      "[[ 0.  1.  2.  3.  4.  5.]\r\n",
      " [ 0.  7.  8.  9. 10. 11.]\r\n",
      " [ 0. 13. 14. nan 16. 17.]\r\n",
      " [ 0. 19. 20. 21. 22. 23.]]\r\n",
      "[[False False False False False False]\r\n",
      " [False False False False False False]\r\n",
      " [False False False  True False False]\r\n",
      " [False False False False False False]]\r\n",
      "1\r\n",
      "1\r\n"
     ]
    }
   ],
   "source": [
    "# 两个nan是不相等的\n",
    "print(\"nan==nan:\", np.nan==np.nan)\n",
    "print(\"nan!=nan:\", np.nan!=np.nan)\n",
    "\n",
    "print(\"*\"*50)\n",
    "\n",
    "# 将第0列都赋值为0\n",
    "t = np.arange(24).reshape(4, 6)\n",
    "t[:,0] = 0\n",
    "print(t)\n",
    "\n",
    "# 统计t中非0的元素个数\n",
    "print(np.count_nonzero(t))\n",
    "\n",
    "print(\"*\"*50)\n",
    "# 设置nan之前要确保数组是float格式\n",
    "t = t.astype(\"float\")\n",
    "t[2, 3] = np.nan\n",
    "print(t)\n",
    "\n",
    "# 统计数组中nan的数量\n",
    "# 原理是nan!=nan\n",
    "t1 = (t!=t)\n",
    "print(t1)\n",
    "print(np.count_nonzero(t1))\n",
    "\n",
    "# 求nan数量也可以直接写成\n",
    "print(np.count_nonzero(t!=t))"
   ]
  },
  {
   "cell_type": "code",
   "execution_count": 4,
   "id": "8e0458f2-999d-4dc6-a707-b51f89ecdec2",
   "metadata": {
    "execution": {
     "iopub.execute_input": "2024-03-18T10:35:39.307030Z",
     "iopub.status.busy": "2024-03-18T10:35:39.306542Z",
     "iopub.status.idle": "2024-03-18T10:35:39.315520Z",
     "shell.execute_reply": "2024-03-18T10:35:39.314818Z",
     "shell.execute_reply.started": "2024-03-18T10:35:39.307003Z"
    },
    "scrolled": true
   },
   "outputs": [
    {
     "name": "stdout",
     "output_type": "stream",
     "text": [
      "[[False False False False False False]\r\n",
      " [False False False False False False]\r\n",
      " [False False False  True False False]\r\n",
      " [False False False False False False]]\r\n"
     ]
    },
    {
     "data": {
      "text/plain": [
       "1"
      ]
     },
     "execution_count": 4,
     "metadata": {},
     "output_type": "execute_result"
    }
   ],
   "source": [
    "# 判断一个值是否是nan\n",
    "print(np.isnan(t))\n",
    "\n",
    "# 那么当然也可以通过这种方式来求nan的数量\n",
    "np.count_nonzero(np.isnan(t))"
   ]
  },
  {
   "cell_type": "code",
   "execution_count": 5,
   "id": "b4d16932-8e68-48cd-a070-e11129ecf4f5",
   "metadata": {
    "execution": {
     "iopub.execute_input": "2024-03-18T10:35:39.316920Z",
     "iopub.status.busy": "2024-03-18T10:35:39.316553Z",
     "iopub.status.idle": "2024-03-18T10:35:39.323406Z",
     "shell.execute_reply": "2024-03-18T10:35:39.322686Z",
     "shell.execute_reply.started": "2024-03-18T10:35:39.316894Z"
    },
    "scrolled": true
   },
   "outputs": [
    {
     "name": "stdout",
     "output_type": "stream",
     "text": [
      "[[ 0  1  2  3]\r\n",
      " [ 4  5  6  7]\r\n",
      " [ 8  9 10 11]]\r\n",
      "66\r\n",
      "[12 15 18 21]\r\n",
      "[ 6 22 38]\r\n",
      "**************************************************\r\n",
      "[[ 0.  1.  2.  3.  4.  5.]\r\n",
      " [ 0.  7.  8.  9. 10. 11.]\r\n",
      " [ 0. 13. 14. nan 16. 17.]\r\n",
      " [ 0. 19. 20. 21. 22. 23.]]\r\n",
      "nan\r\n",
      "[ 0. 40. 44. nan 52. 56.]\r\n"
     ]
    }
   ],
   "source": [
    "t2 = np.arange(12).reshape((3, 4))\n",
    "print(t2)\n",
    "# 求和\n",
    "print(np.sum(t2))\n",
    "\n",
    "# 求某一个维度的和\n",
    "# 二维数组 竖着的是0轴 横着的是1轴\n",
    "# 求每一列的和\n",
    "print(np.sum(t2, axis=0))\n",
    "# 求每一行的和\n",
    "print(np.sum(t2, axis=1))\n",
    "\n",
    "print(\"*\"*50)\n",
    "print(t)\n",
    "# nan和任何值计算都是nan\n",
    "print(np.sum(t))\n",
    "print(np.sum(t, axis=0))"
   ]
  },
  {
   "cell_type": "markdown",
   "id": "f15f25a2-7db2-4826-963f-e8eff822f1f9",
   "metadata": {},
   "source": [
    "假如在数据中遇到了nan该如何处理呢？\n",
    "\n",
    "在一组数据中单纯的把nan替换为0并不合适。全部替换为0后，替换之前的平均值如果大于0，替换之后的均值肯定会变小，所以更一般的方式是把缺失的数值替换为均值（中值）或者是直接删除有缺失值的一行。"
   ]
  },
  {
   "cell_type": "code",
   "execution_count": 6,
   "id": "86f7f91b-a188-43bc-b1e2-89e77c06c637",
   "metadata": {
    "execution": {
     "iopub.execute_input": "2024-03-18T10:35:39.325236Z",
     "iopub.status.busy": "2024-03-18T10:35:39.324751Z",
     "iopub.status.idle": "2024-03-18T10:35:39.333879Z",
     "shell.execute_reply": "2024-03-18T10:35:39.333165Z",
     "shell.execute_reply.started": "2024-03-18T10:35:39.325211Z"
    },
    "scrolled": true
   },
   "outputs": [
    {
     "name": "stdout",
     "output_type": "stream",
     "text": [
      "[[ 1  2  3  4  5  6]\r\n",
      " [ 7  8  9 10 11 12]\r\n",
      " [13 14 15 16 17 18]\r\n",
      " [19 20 21 22 23 24]]\r\n",
      "sum:\r\n",
      "300\r\n",
      "[40 44 48 52 56 60]\r\n",
      "mean:\r\n",
      "12.5\r\n",
      "[10. 11. 12. 13. 14. 15.]\r\n",
      "median:\r\n",
      "12.5\r\n",
      "[10. 11. 12. 13. 14. 15.]\r\n",
      "max\r\n",
      "24\r\n",
      "[19 20 21 22 23 24]\r\n",
      "min\r\n",
      "1\r\n",
      "[1 2 3 4 5 6]\r\n",
      "ptp\r\n",
      "23\r\n",
      "[18 18 18 18 18 18]\r\n",
      "std\r\n",
      "6.922186552431729\r\n",
      "[6.70820393 6.70820393 6.70820393 6.70820393 6.70820393 6.70820393]\r\n"
     ]
    }
   ],
   "source": [
    "# 统计函数\n",
    "t = np.arange(1, 25).reshape(4, 6)\n",
    "print(t)\n",
    "\n",
    "# 求总和\n",
    "print(\"sum:\")\n",
    "print(t.sum())\n",
    "\n",
    "# 求某一维度的总和\n",
    "# 0轴是每列的总和\n",
    "print(t.sum(axis=0))\n",
    "\n",
    "# 求均值, 受离群点的影响较大\n",
    "print(\"mean:\")\n",
    "print(t.mean())\n",
    "print(t.mean(axis=0))\n",
    "\n",
    "# 求中值\n",
    "print(\"median:\")\n",
    "print(np.median(t))\n",
    "print(np.median(t, axis=0))\n",
    "\n",
    "# 求最大值\n",
    "print(\"max\")\n",
    "print(t.max())\n",
    "print(t.max(axis=0))\n",
    "\n",
    "# 求最小值\n",
    "print(\"min\")\n",
    "print(t.min())\n",
    "print(t.min(axis=0))\n",
    "\n",
    "# 求极值, 即最大值和最小值之差\n",
    "print(\"ptp\")\n",
    "print(np.ptp(t))\n",
    "print(np.ptp(t, axis=0))\n",
    "\n",
    "# 求标准差\n",
    "# 标准差是一组数据平均值分散程度的一种度量, 反映出数据的波动稳定情况, 越大表示波动越大, 约不稳定\n",
    "# 一个较大的标准差, 代表大部分数值和其平均值之间差异较大\n",
    "# 一个较小的标准差, 代表这些数值较接近平均值\n",
    "print(\"std\")\n",
    "print(t.std())\n",
    "print(t.std(axis=0))"
   ]
  },
  {
   "cell_type": "code",
   "execution_count": 7,
   "id": "ab7a131f-c987-4c96-bf4e-cc7064df91d5",
   "metadata": {
    "execution": {
     "iopub.execute_input": "2024-03-18T10:35:39.335354Z",
     "iopub.status.busy": "2024-03-18T10:35:39.334775Z",
     "iopub.status.idle": "2024-03-18T10:35:39.342706Z",
     "shell.execute_reply": "2024-03-18T10:35:39.341915Z",
     "shell.execute_reply.started": "2024-03-18T10:35:39.335321Z"
    },
    "scrolled": true,
    "tags": []
   },
   "outputs": [
    {
     "name": "stdout",
     "output_type": "stream",
     "text": [
      "[[ 0.  1.  2.  3.]\r\n",
      " [ 4.  5. nan nan]\r\n",
      " [ 8.  9. 10. 11.]]\r\n",
      "**************************************************\r\n",
      "[[ 0.  1.  2.  3.]\r\n",
      " [ 4.  5.  6.  7.]\r\n",
      " [ 8.  9. 10. 11.]]\r\n"
     ]
    }
   ],
   "source": [
    "# nan缺失值填充均值\n",
    "\n",
    "t1 = np.arange(12).reshape((3, 4)).astype(\"float\")\n",
    "t1[1, 2:] = np.nan\n",
    "print(t1)\n",
    "print(\"*\"*50)\n",
    "\n",
    "# 遍历每一列并计算每一列的nan数量\n",
    "for i in range(t1.shape[1]):\n",
    "    temp_col = t1[:,i]\n",
    "    nan_num = np.count_nonzero(temp_col != temp_col)\n",
    "    # 若存在nan, 则求不含nan的均值, 并将nan赋值为均值\n",
    "    if nan_num != 0:\n",
    "        temp_not_nan_col = temp_col[temp_col == temp_col]\n",
    "        temp_col[np.isnan(temp_col)] = temp_not_nan_col.mean()\n",
    "    t1[:, i] = temp_col\n",
    "print(t1)"
   ]
  }
 ],
 "metadata": {
  "kernelspec": {
   "display_name": "Python 3",
   "language": "python",
   "name": "py35-paddle1.2.0"
  },
  "language_info": {
   "codemirror_mode": {
    "name": "ipython",
    "version": 3
   },
   "file_extension": ".py",
   "mimetype": "text/x-python",
   "name": "python",
   "nbconvert_exporter": "python",
   "pygments_lexer": "ipython3",
   "version": "3.10.10"
  }
 },
 "nbformat": 4,
 "nbformat_minor": 5
}
