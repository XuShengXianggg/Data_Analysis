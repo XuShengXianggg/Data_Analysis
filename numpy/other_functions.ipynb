{
 "cells": [
  {
   "cell_type": "markdown",
   "id": "e5586647-4c84-4d02-aead-1be188b2b89b",
   "metadata": {},
   "source": [
    "# numpy其他函数"
   ]
  },
  {
   "cell_type": "code",
   "execution_count": 1,
   "id": "8c6c7610-b90b-411b-8b5d-d9724f59b1c9",
   "metadata": {
    "execution": {
     "iopub.execute_input": "2024-03-18T11:02:03.127787Z",
     "iopub.status.busy": "2024-03-18T11:02:03.127244Z",
     "iopub.status.idle": "2024-03-18T11:02:03.535211Z",
     "shell.execute_reply": "2024-03-18T11:02:03.533919Z",
     "shell.execute_reply.started": "2024-03-18T11:02:03.127758Z"
    },
    "scrolled": true
   },
   "outputs": [
    {
     "name": "stdout",
     "output_type": "stream",
     "text": [
      "[[ 0  1  2  3  4  5]\r\n",
      " [ 6  7  8  9 10 11]]\r\n",
      "[[12 13 14 15 16 17]\r\n",
      " [18 19 20 21 22 23]]\r\n",
      "**************************************************\r\n",
      "[[ 0  1  2  3  4  5]\r\n",
      " [ 6  7  8  9 10 11]\r\n",
      " [12 13 14 15 16 17]\r\n",
      " [18 19 20 21 22 23]]\r\n",
      "**************************************************\r\n",
      "[[ 0  1  2  3  4  5 12 13 14 15 16 17]\r\n",
      " [ 6  7  8  9 10 11 18 19 20 21 22 23]]\r\n"
     ]
    }
   ],
   "source": [
    "import numpy as np\n",
    "\n",
    "# 数组拼接\n",
    "t1 = np.arange(12).reshape((2, 6))\n",
    "t2 = np.arange(12, 24).reshape((2, 6))\n",
    "print(t1)\n",
    "print(t2)\n",
    "\n",
    "# vstack是竖直拼接\n",
    "print(\"*\"*50)\n",
    "print(np.vstack((t1, t2)))\n",
    "\n",
    "# hstack是水平拼接\n",
    "print(\"*\"*50)\n",
    "print(np.hstack((t1, t2)))"
   ]
  },
  {
   "cell_type": "code",
   "execution_count": 2,
   "id": "58753538-af5f-44da-963b-9ffea5de8780",
   "metadata": {
    "execution": {
     "iopub.execute_input": "2024-03-18T11:02:03.538128Z",
     "iopub.status.busy": "2024-03-18T11:02:03.537503Z",
     "iopub.status.idle": "2024-03-18T11:02:03.545695Z",
     "shell.execute_reply": "2024-03-18T11:02:03.544682Z",
     "shell.execute_reply.started": "2024-03-18T11:02:03.538085Z"
    },
    "scrolled": true
   },
   "outputs": [
    {
     "name": "stdout",
     "output_type": "stream",
     "text": [
      "[[12 13 14 15]\r\n",
      " [16 17 18 19]\r\n",
      " [20 21 22 23]]\r\n",
      "**************************************************\r\n",
      "[[12 13 14 15]\r\n",
      " [20 21 22 23]\r\n",
      " [16 17 18 19]]\r\n",
      "**************************************************\r\n",
      "[[14 13 12 15]\r\n",
      " [22 21 20 23]\r\n",
      " [18 17 16 19]]\r\n",
      "**************************************************\r\n"
     ]
    }
   ],
   "source": [
    "# 交换数组的行和列\n",
    "t = np.arange(12, 24).reshape((3, 4))\n",
    "print(t)\n",
    "print(\"*\"*50)\n",
    "\n",
    "# 交换行\n",
    "# 在交换的时候需要考虑对应维度是否相同\n",
    "t[[1, 2], :] = t[[2, 1], :]\n",
    "print(t)\n",
    "print(\"*\"*50)\n",
    "\n",
    "# 交换列\n",
    "t[:, [0, 2]] = t[:, [2, 0]]\n",
    "print(t)\n",
    "print(\"*\"*50)"
   ]
  },
  {
   "cell_type": "markdown",
   "id": "46d4f74c-a6cc-41db-be61-2ecb97523c8a",
   "metadata": {},
   "source": [
    "现在希望把之前案例中两个国家的数据方法一起来研究分析，同时保留国家的信息（每条数据的国家来源）。"
   ]
  },
  {
   "cell_type": "code",
   "execution_count": 3,
   "id": "f7b53591-acbd-4349-9b43-84039584d5fd",
   "metadata": {
    "execution": {
     "iopub.execute_input": "2024-03-18T11:02:03.547831Z",
     "iopub.status.busy": "2024-03-18T11:02:03.547302Z",
     "iopub.status.idle": "2024-03-18T11:02:03.559358Z",
     "shell.execute_reply": "2024-03-18T11:02:03.558259Z",
     "shell.execute_reply.started": "2024-03-18T11:02:03.547788Z"
    },
    "scrolled": true
   },
   "outputs": [
    {
     "name": "stdout",
     "output_type": "stream",
     "text": [
      "[[      0 4394029  320053    5931   46245]\r\n",
      " [      0 7860119  185853   26679       0]\r\n",
      " [      0 5845909  576597   39774  170708]\r\n",
      " ...\r\n",
      " [      1  109222    4840      35     212]\r\n",
      " [      1  626223   22962     532    1559]\r\n",
      " [      1   99228    1699      23     135]]\r\n"
     ]
    }
   ],
   "source": [
    "us_file_path = \"./youtube_video_data/US_video_data_numbers.csv\"\n",
    "uk_file_path = \"./youtube_video_data/GB_video_data_numbers.csv\"\n",
    "\n",
    "us_data = np.loadtxt(us_file_path, dtype=\"int\", delimiter=\",\")\n",
    "uk_data = np.loadtxt(uk_file_path, dtype=\"int\", delimiter=\",\")\n",
    "\n",
    "# 可以在最左边添加一列, 为0代表美国, 为1代表英国\n",
    "# 先创建表示国籍的1和0\n",
    "zeros_data = np.zeros((us_data.shape[0], 1)).astype(\"int\")\n",
    "ones_data = np.ones((uk_data.shape[0], 1)).astype(\"int\")\n",
    "\n",
    "# 将国籍和其他数据左右拼接\n",
    "us_data = np.hstack((zeros_data, us_data))\n",
    "uk_data = np.hstack((ones_data, uk_data))\n",
    "\n",
    "# 上下拼接两个国家的数据\n",
    "final_data = np.vstack((us_data, uk_data))\n",
    "print(final_data)"
   ]
  },
  {
   "cell_type": "code",
   "execution_count": 4,
   "id": "60f04b65-41ca-4d91-aa91-ebd565cbf07d",
   "metadata": {
    "execution": {
     "iopub.execute_input": "2024-03-18T11:02:03.562473Z",
     "iopub.status.busy": "2024-03-18T11:02:03.561951Z",
     "iopub.status.idle": "2024-03-18T11:02:03.572419Z",
     "shell.execute_reply": "2024-03-18T11:02:03.571221Z",
     "shell.execute_reply.started": "2024-03-18T11:02:03.562429Z"
    },
    "scrolled": true,
    "tags": []
   },
   "outputs": [
    {
     "name": "stdout",
     "output_type": "stream",
     "text": [
      "[[ 0  1  2  3]\r\n",
      " [ 4  5  6  7]\r\n",
      " [ 8  9 10 11]]\r\n",
      "[2 2 2 2]\r\n",
      "[3 3 3]\r\n",
      "[0 0 0]\r\n",
      "**************************************************\r\n",
      "[[0. 0. 0. 0.]\r\n",
      " [0. 0. 0. 0.]\r\n",
      " [0. 0. 0. 0.]]\r\n",
      "[[1. 1. 1. 1.]\r\n",
      " [1. 1. 1. 1.]\r\n",
      " [1. 1. 1. 1.]]\r\n",
      "**************************************************\r\n",
      "[[1. 0. 0.]\r\n",
      " [0. 1. 0.]\r\n",
      " [0. 0. 1.]]\r\n",
      "[0 1 2]\r\n"
     ]
    }
   ],
   "source": [
    "# 获取最大值和最小值的位置\n",
    "t = np.arange(12).reshape((3, 4))\n",
    "print(t)\n",
    "\n",
    "# axis=0表示纵向列\n",
    "# 获取axis轴方向上最大值和最小值的位置\n",
    "print(np.argmax(t, axis=0))\n",
    "# axis=1表示横向行\n",
    "print(np.argmax(t, axis=1))\n",
    "print(np.argmin(t, axis=1))\n",
    "\n",
    "# 创建一个全0或全1的数组\n",
    "t1 = np.zeros((3, 4))\n",
    "t2 = np.ones((3,4)) \n",
    "print(\"*\"*50)\n",
    "print(t1)\n",
    "print(t2)\n",
    "\n",
    "# 创建一个n维单位矩阵\n",
    "t3 = np.eye(3)\n",
    "print(\"*\"*50)\n",
    "print(t3)\n",
    "\n",
    "# 查看每行最大的值的位置\n",
    "print(np.argmax(t3, axis=1))"
   ]
  },
  {
   "cell_type": "code",
   "execution_count": 5,
   "id": "c360cc1b-4799-4fef-b82a-5c6d2fceeeb4",
   "metadata": {
    "execution": {
     "iopub.execute_input": "2024-03-18T11:02:03.574495Z",
     "iopub.status.busy": "2024-03-18T11:02:03.573966Z",
     "iopub.status.idle": "2024-03-18T11:02:03.588411Z",
     "shell.execute_reply": "2024-03-18T11:02:03.587232Z",
     "shell.execute_reply.started": "2024-03-18T11:02:03.574452Z"
    },
    "scrolled": true
   },
   "outputs": [
    {
     "name": "stdout",
     "output_type": "stream",
     "text": [
      "rand\r\n",
      "[[0.47570783 0.16277041 0.58628622]\r\n",
      " [0.20298852 0.41560036 0.02730671]]\r\n",
      "**************************************************\r\n",
      "randn\r\n",
      "[[ 0.39625809  0.57635469  0.08194591]\r\n",
      " [-0.10829226 -0.94611748 -1.25972581]]\r\n",
      "**************************************************\r\n",
      "randint\r\n",
      "[[14 36 28]\r\n",
      " [26 41 30]]\r\n",
      "**************************************************\r\n",
      "uniform\r\n",
      "[[1.25593512 1.28968271 1.13416271]\r\n",
      " [1.85145945 1.53432617 1.53726341]]\r\n",
      "**************************************************\r\n",
      "normal\r\n",
      "[[ 0.66269205  1.34202662 -0.07335341]\r\n",
      " [ 0.19034307 -0.04145305  0.52209173]]\r\n",
      "**************************************************\r\n",
      "no seed\r\n",
      "[[0.04565763 0.19746235 0.99397733]\r\n",
      " [0.67643023 0.88178195 0.60729527]]\r\n",
      "[[0.52512796 0.96402354 0.89116535]\r\n",
      " [0.24204181 0.47941681 0.58638169]]\r\n",
      "**************************************************\r\n",
      "seed\r\n",
      "[[0.5488135  0.71518937 0.60276338]\r\n",
      " [0.54488318 0.4236548  0.64589411]]\r\n",
      "[[0.5488135  0.71518937 0.60276338]\r\n",
      " [0.54488318 0.4236548  0.64589411]]\r\n"
     ]
    }
   ],
   "source": [
    "# 均匀分布, 在相同的大小范围内的出现概率是相等的\n",
    "# 正态分布, 呈钟型，两头低，中间高，左右对称\n",
    "\n",
    "# rand(d0, d1, ..., dn)\n",
    "# 产生一个给定形状的数组，数组中的数值符合[0, 1)的均匀分布\n",
    "print(\"rand\")\n",
    "a = np.random.rand(2, 3)\n",
    "print(a)\n",
    "print(\"*\"*50)\n",
    "\n",
    "# randn(d0, d1, ..., dn)\n",
    "# 产生一个给定形状的数组，数组中的数值符合标准正态分布（均值0，方差1）\n",
    "print(\"randn\")\n",
    "b = np.random.randn(2, 3)\n",
    "print(b)\n",
    "print(\"*\"*50)\n",
    "\n",
    "# randint(low, high, shape)\n",
    "# 生成一个给定形状的数组，数组中的数值是从low（包含）到high（不包含）的随机整数\n",
    "print(\"randint\")\n",
    "c = np.random.randint(10, 50, (2, 3))\n",
    "print(c)\n",
    "print(\"*\"*50)\n",
    "\n",
    "# uniform(low, high, size)\n",
    "# 产生一个数组，数组中的数值符合[low, high)的均匀分布\n",
    "print(\"uniform\")\n",
    "d = np.random.uniform(1., 2., (2, 3))\n",
    "print(d)\n",
    "print(\"*\"*50)\n",
    "\n",
    "# normal(loc, scale, size)\n",
    "# 产生一个数组，数组中的数值符合以loc为均值，scale为标准差的正态分布\n",
    "print(\"normal\")\n",
    "e = np.random.normal(0, 1, (2, 3))\n",
    "print(e)\n",
    "print(\"*\"*50)\n",
    "\n",
    "# seed(s)\n",
    "# 设定随机数生成的种子。使用相同的种子将会产生相同的随机数序列，这对于需要可重复结果的实验非常有用\n",
    "print(\"no seed\")\n",
    "a = np.random.rand(2, 3)\n",
    "print(a)\n",
    "a = np.random.rand(2, 3)\n",
    "print(a)\n",
    "print(\"*\"*50)\n",
    "\n",
    "print(\"seed\")\n",
    "np.random.seed(0)\n",
    "a = np.random.rand(2, 3)\n",
    "print(a)\n",
    "np.random.seed(0)\n",
    "a = np.random.rand(2, 3)\n",
    "print(a)"
   ]
  },
  {
   "cell_type": "code",
   "execution_count": 6,
   "id": "cbc3a93c-2f15-4b2e-84d9-3809b25ccc7a",
   "metadata": {
    "execution": {
     "iopub.execute_input": "2024-03-18T11:02:03.590958Z",
     "iopub.status.busy": "2024-03-18T11:02:03.590031Z",
     "iopub.status.idle": "2024-03-18T11:02:03.600465Z",
     "shell.execute_reply": "2024-03-18T11:02:03.599442Z",
     "shell.execute_reply.started": "2024-03-18T11:02:03.590913Z"
    },
    "scrolled": true,
    "tags": []
   },
   "outputs": [
    {
     "name": "stdout",
     "output_type": "stream",
     "text": [
      "[0 1 2 3 4 5]\r\n",
      "[0 1 2 3 4 5]\r\n",
      "[0 1 9 3 4 5]\r\n",
      "[0 1 9 3 4 5]\r\n",
      "[-1  1  9  3  4  5]\r\n",
      "[-1  1  9  3  4  5]\r\n",
      "**************************************************\r\n",
      "[0 1 2 3 4 5]\r\n",
      "[0 1 2 3 4 5]\r\n",
      "[0 1 9 3 4 5]\r\n",
      "[0 1 9 3 4 5]\r\n",
      "[-1  1  9  3  4  5]\r\n",
      "[-1  1  9  3  4  5]\r\n",
      "**************************************************\r\n",
      "[0 1 2 3 4 5]\r\n",
      "[0 1 2 3 4 5]\r\n",
      "[0 1 9 3 4 5]\r\n",
      "[0 1 2 3 4 5]\r\n",
      "[0 1 9 3 4 5]\r\n",
      "[-1  1  2  3  4  5]\r\n"
     ]
    }
   ],
   "source": [
    "# 复制与赋值\n",
    "\n",
    "# a=b 完全不复制, a和b相互影响\n",
    "# 更改a会影响b, 更改b也会影响a\n",
    "b = np.arange(6)\n",
    "a = b\n",
    "print(a, b, sep='\\n')\n",
    "a[2] = 9\n",
    "print(a, b, sep='\\n')\n",
    "b[0] = -1\n",
    "print(a, b, sep='\\n')\n",
    "\n",
    "print(\"*\"*50)\n",
    "# a = b[:]是视图的操作, 是一种切片, 会创建新的对象a, 但是a的数据完全由b保管, 他们两个的数据变化是一致的\n",
    "b = np.arange(6)\n",
    "a = b[:]\n",
    "print(a, b, sep='\\n')\n",
    "a[2] = 9\n",
    "print(a, b, sep='\\n')\n",
    "b[0] = -1\n",
    "print(a, b, sep='\\n')\n",
    "\n",
    "print(\"*\"*50)\n",
    "# a = b.copy() 是复制, a和b互不影响\n",
    "b = np.arange(6)\n",
    "a = b.copy()\n",
    "print(a, b, sep='\\n')\n",
    "a[2] = 9\n",
    "print(a, b, sep='\\n')\n",
    "b[0] = -1\n",
    "print(a, b, sep='\\n')"
   ]
  }
 ],
 "metadata": {
  "kernelspec": {
   "display_name": "Python 3",
   "language": "python",
   "name": "py35-paddle1.2.0"
  },
  "language_info": {
   "codemirror_mode": {
    "name": "ipython",
    "version": 3
   },
   "file_extension": ".py",
   "mimetype": "text/x-python",
   "name": "python",
   "nbconvert_exporter": "python",
   "pygments_lexer": "ipython3",
   "version": "3.10.10"
  }
 },
 "nbformat": 4,
 "nbformat_minor": 5
}
