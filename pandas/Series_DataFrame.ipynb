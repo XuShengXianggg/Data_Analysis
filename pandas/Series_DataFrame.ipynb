{
 "cells": [
  {
   "cell_type": "markdown",
   "id": "c9e044e9-38ec-405e-926a-dae5c53dc2a3",
   "metadata": {},
   "source": [
    "# pandas Series和DataFrame"
   ]
  },
  {
   "cell_type": "markdown",
   "id": "aac157e3-a2df-4569-9987-d299925d2d5f",
   "metadata": {},
   "source": [
    "numpy能够帮助我们处理数值, 但是pandas除了处理数值之外(基于numpy), 还能够帮助我们处理其他类型的数据, 如字符串、时间序列等。"
   ]
  },
  {
   "cell_type": "code",
   "execution_count": 16,
   "id": "f6d43f22-a2da-4d7e-87a3-eb2fc086fbf4",
   "metadata": {
    "execution": {
     "iopub.execute_input": "2024-03-18T12:00:02.127182Z",
     "iopub.status.busy": "2024-03-18T12:00:02.126545Z",
     "iopub.status.idle": "2024-03-18T12:00:02.139445Z",
     "shell.execute_reply": "2024-03-18T12:00:02.138478Z",
     "shell.execute_reply.started": "2024-03-18T12:00:02.127135Z"
    },
    "scrolled": true
   },
   "outputs": [
    {
     "name": "stdout",
     "output_type": "stream",
     "text": [
      "<class 'pandas.core.series.Series'>\r\n",
      "0    1\r\n",
      "1    2\r\n",
      "2    3\r\n",
      "3    4\r\n",
      "4    5\r\n",
      "dtype: int64\r\n",
      "a     1\r\n",
      "b    23\r\n",
      "c     2\r\n",
      "d     2\r\n",
      "e     1\r\n",
      "dtype: int64\r\n",
      "**************************************************\r\n",
      "name      dog\r\n",
      "age        10\r\n",
      "tel     10086\r\n",
      "dtype: object\r\n",
      "**************************************************\r\n",
      "{'A': 0, 'B': 1, 'C': 2, 'D': 3, 'E': 4, 'F': 5, 'G': 6, 'H': 7, 'I': 8, 'J': 9}\r\n",
      "==================================================\r\n",
      "A    0\r\n",
      "B    1\r\n",
      "C    2\r\n",
      "D    3\r\n",
      "E    4\r\n",
      "F    5\r\n",
      "G    6\r\n",
      "H    7\r\n",
      "I    8\r\n",
      "J    9\r\n",
      "dtype: int64\r\n",
      "**************************************************\r\n",
      "F    5.0\r\n",
      "G    6.0\r\n",
      "H    7.0\r\n",
      "I    8.0\r\n",
      "J    9.0\r\n",
      "K    NaN\r\n",
      "L    NaN\r\n",
      "M    NaN\r\n",
      "N    NaN\r\n",
      "O    NaN\r\n",
      "dtype: float64\r\n"
     ]
    }
   ],
   "source": [
    "import pandas as pd\n",
    "import string\n",
    "\n",
    "# pandas常用数据类型\n",
    "# Series: 一维的带标签的数组\n",
    "# DataFrame：二维的Series容器\n",
    "\n",
    "# 从结果我们可以看出pandas数组是带有索引的\n",
    "# 第一列为索引标签, 第二列为真实数据\n",
    "t = pd.Series([1, 2, 3, 4, 5])\n",
    "print(type(t))\n",
    "print(t)\n",
    "\n",
    "# 给一维数组指定索引index, 索引和数组的长度必须一样\n",
    "t2 = pd.Series([1, 23, 2, 2, 1], index=list(\"abcde\"))\n",
    "print(t2)\n",
    "\n",
    "print(\"*\"*50)\n",
    "# 也可以基于字典来创建\n",
    "# 通过字典来创建Series时, 其中的索引就是字典的键\n",
    "# 通过字典创建, 那么内部的值类型默认为object\n",
    "temp_dict = {\"name\":\"dog\", \"age\":10, \"tel\":10086}\n",
    "t3 = pd.Series(temp_dict)\n",
    "print(t3)\n",
    "\n",
    "print(\"*\"*50)\n",
    "# 创建一个字典表达式\n",
    "a = {string.ascii_uppercase[i]: i for i in range(10)}\n",
    "print(a)\n",
    "print(\"=\"*50)\n",
    "t4 = pd.Series(a)\n",
    "print(t4)\n",
    "\n",
    "print(\"*\"*50)\n",
    "# 重新为数组指定其他的索引后, 如果能对应上, 就取其值, 否则赋值为NaN\n",
    "t4 = pd.Series(a, index=list(string.ascii_uppercase[5: 15]))\n",
    "print(t4)\n",
    "\n",
    "# Series也有dtype以及astype方法"
   ]
  },
  {
   "cell_type": "code",
   "execution_count": 17,
   "id": "fa73d6de-b519-49ac-9780-3281c33e1fb0",
   "metadata": {
    "execution": {
     "iopub.execute_input": "2024-03-18T12:00:02.141932Z",
     "iopub.status.busy": "2024-03-18T12:00:02.141281Z",
     "iopub.status.idle": "2024-03-18T12:00:02.151434Z",
     "shell.execute_reply": "2024-03-18T12:00:02.150376Z",
     "shell.execute_reply.started": "2024-03-18T12:00:02.141903Z"
    },
    "scrolled": true
   },
   "outputs": [
    {
     "name": "stdout",
     "output_type": "stream",
     "text": [
      "10086\r\n",
      "10086\r\n",
      "==================================================\r\n",
      "name    dog\r\n",
      "age      10\r\n",
      "dtype: object\r\n",
      "**************************************************\r\n",
      "age       10\r\n",
      "tel    10086\r\n",
      "dtype: object\r\n",
      "**************************************************\r\n",
      "name    dog\r\n",
      "age      10\r\n",
      "dtype: object\r\n",
      "**************************************************\r\n",
      "4    5\r\n",
      "dtype: int64\r\n"
     ]
    }
   ],
   "source": [
    "# print(t3)\n",
    "# 可以通过索引来取值, 也可以通过位置来取值\n",
    "# 在python的未来版本中, 将使用.iloc[p]来访问p位置的元素\n",
    "# 下标访问要用iloc\n",
    "print(t3.iloc[2])\n",
    "print(t3[\"tel\"])\n",
    "\n",
    "print(\"=\"*50)\n",
    "# 取连续切片\n",
    "# 依然是左闭右开区间\n",
    "print(t3[:2])\n",
    "\n",
    "print(\"*\"*50)\n",
    "# 取不连续切片\n",
    "print(t3.iloc[[1, 2]])\n",
    "print(\"*\"*50)\n",
    "print(t3[[\"name\", \"age\"]])\n",
    "\n",
    "print(\"*\"*50)\n",
    "# 布尔索引\n",
    "print(t[t>4])"
   ]
  },
  {
   "cell_type": "code",
   "execution_count": 18,
   "id": "bdc116c2-57b8-44f4-973b-169ca7b8d5f9",
   "metadata": {
    "execution": {
     "iopub.execute_input": "2024-03-18T12:00:02.152942Z",
     "iopub.status.busy": "2024-03-18T12:00:02.152556Z",
     "iopub.status.idle": "2024-03-18T12:00:02.160557Z",
     "shell.execute_reply": "2024-03-18T12:00:02.159708Z",
     "shell.execute_reply.started": "2024-03-18T12:00:02.152914Z"
    },
    "scrolled": true
   },
   "outputs": [
    {
     "name": "stdout",
     "output_type": "stream",
     "text": [
      "A    0\r\n",
      "B    1\r\n",
      "C    2\r\n",
      "D    3\r\n",
      "E    4\r\n",
      "F    5\r\n",
      "G    6\r\n",
      "H    7\r\n",
      "I    8\r\n",
      "J    9\r\n",
      "dtype: int64\r\n",
      "Index(['A', 'B', 'C', 'D', 'E', 'F', 'G', 'H', 'I', 'J'], dtype='object')\r\n",
      "<class 'pandas.core.indexes.base.Index'>\r\n",
      "[0 1 2 3 4 5 6 7 8 9]\r\n",
      "<class 'numpy.ndarray'>\r\n"
     ]
    }
   ],
   "source": [
    "# 可以通过方法取索引和具体的值\n",
    "t = pd.Series({string.ascii_uppercase[i]: i for i in range(10)})\n",
    "print(t)\n",
    "\n",
    "# 可以通过index和values来直接取值\n",
    "# 可以看出Series的索引的类型是pandas.core.indexes.base.Index\n",
    "print(t.index)\n",
    "print(type(t.index))\n",
    "\n",
    "# 可以看出Series的值的类型是numpy数组\n",
    "print(t.values)\n",
    "print(type(t.values))"
   ]
  },
  {
   "cell_type": "code",
   "execution_count": 19,
   "id": "17f27b91-2781-4f81-bcc7-7abcfd731033",
   "metadata": {
    "execution": {
     "iopub.execute_input": "2024-03-18T12:00:02.162100Z",
     "iopub.status.busy": "2024-03-18T12:00:02.161699Z",
     "iopub.status.idle": "2024-03-18T12:00:02.181566Z",
     "shell.execute_reply": "2024-03-18T12:00:02.180618Z",
     "shell.execute_reply.started": "2024-03-18T12:00:02.162072Z"
    },
    "scrolled": true
   },
   "outputs": [
    {
     "name": "stdout",
     "output_type": "stream",
     "text": [
      "      Row_Labels  Count_AnimalName\r\n",
      "0              1                 1\r\n",
      "1              2                 2\r\n",
      "2          40804                 1\r\n",
      "3          90201                 1\r\n",
      "4          90203                 1\r\n",
      "...          ...               ...\r\n",
      "16215      37916                 1\r\n",
      "16216      38282                 1\r\n",
      "16217      38583                 1\r\n",
      "16218      38948                 1\r\n",
      "16219      39743                 1\r\n",
      "\r\n",
      "[16220 rows x 2 columns]\r\n"
     ]
    }
   ],
   "source": [
    "# 读取csv中的文件\n",
    "# 显示出来的是DataFrame结构\n",
    "df = pd.read_csv(\"./dogNames2.csv\")\n",
    "print(df)\n",
    "\n",
    "# 读取数据库\n",
    "# pd.read_sql(sql_sentence, connection)"
   ]
  },
  {
   "cell_type": "code",
   "execution_count": 20,
   "id": "ee3ed0ab-2468-4435-8aaf-d854361d1aa4",
   "metadata": {
    "execution": {
     "iopub.execute_input": "2024-03-18T12:00:02.184869Z",
     "iopub.status.busy": "2024-03-18T12:00:02.184434Z",
     "iopub.status.idle": "2024-03-18T12:00:02.201195Z",
     "shell.execute_reply": "2024-03-18T12:00:02.200287Z",
     "shell.execute_reply.started": "2024-03-18T12:00:02.184838Z"
    },
    "scrolled": true
   },
   "outputs": [
    {
     "name": "stdout",
     "output_type": "stream",
     "text": [
      "   0  1   2   3\r\n",
      "0  0  1   2   3\r\n",
      "1  4  5   6   7\r\n",
      "2  8  9  10  11\r\n",
      "..................................................\r\n",
      "   A  B   C   D\r\n",
      "a  0  1   2   3\r\n",
      "b  4  5   6   7\r\n",
      "c  8  9  10  11\r\n",
      "**************************************************\r\n",
      "  name  age    tel\r\n",
      "0  dog   10  10086\r\n",
      "1  cat   20  10010\r\n",
      "**************************************************\r\n",
      "  name  age    tel\r\n",
      "0  dog   17  10086\r\n",
      "1  cat   42  10010\r\n"
     ]
    }
   ],
   "source": [
    "# DataFrame: 二维的Series容器\n",
    "import numpy as np\n",
    "\n",
    "t = pd.DataFrame(np.arange(12).reshape((3, 4)))\n",
    "print(t)\n",
    "# 显然第一列是行索引, 第一行是列索引\n",
    "# DataFrame对象既有行索引, 又有列索引\n",
    "# 行索引, 表明不同行, 横向索引, 叫index, 0轴, axis=0\n",
    "# 列索引, 表名不同列, 纵向索引, 叫columns, 1轴, axis=1\n",
    "\n",
    "# 也可以自己设置行列索引\n",
    "# index是行索引 columns是列索引\n",
    "print(\".\"*50)\n",
    "t = pd.DataFrame(np.arange(12).reshape((3, 4)), index=list(\"abc\"), columns=list(\"ABCD\"))\n",
    "print(t)\n",
    "\n",
    "print(\"*\"*50)\n",
    "# DataFrame也可以通过字典来创建\n",
    "# 字典内也可以有多个元素, 也可以有多个字典\n",
    "# 列索引为键, 行索引为序号\n",
    "d1 = {\"name\":[\"dog\", \"cat\"], \"age\":[10, 20], \"tel\": [10086, 10010]}\n",
    "d1 = pd.DataFrame(d1)\n",
    "print(d1)\n",
    "\n",
    "print(\"*\"*50)\n",
    "# 可以看成是多个字典?\n",
    "d2 = [{\"name\":\"dog\", \"age\":17, \"tel\":\"10086\"}, {\"name\":\"cat\", \"age\":42, \"tel\":\"10010\"}]\n",
    "d2 = pd.DataFrame(d2)\n",
    "print(d2)"
   ]
  },
  {
   "cell_type": "code",
   "execution_count": 21,
   "id": "c696f071-5136-4a00-9468-421a055fc831",
   "metadata": {
    "execution": {
     "iopub.execute_input": "2024-03-18T12:00:02.202644Z",
     "iopub.status.busy": "2024-03-18T12:00:02.202354Z",
     "iopub.status.idle": "2024-03-18T12:00:02.225823Z",
     "shell.execute_reply": "2024-03-18T12:00:02.224834Z",
     "shell.execute_reply.started": "2024-03-18T12:00:02.202618Z"
    },
    "scrolled": true
   },
   "outputs": [
    {
     "name": "stdout",
     "output_type": "stream",
     "text": [
      "**************************************************\r\n",
      "index\r\n",
      "RangeIndex(start=0, stop=2, step=1)\r\n",
      "**************************************************\r\n",
      "columns\r\n",
      "Index(['name', 'age', 'tel'], dtype='object')\r\n",
      "**************************************************\r\n",
      "values\r\n",
      "[['dog' 10 10086]\r\n",
      " ['cat' 20 10010]]\r\n",
      "**************************************************\r\n",
      "ndim\r\n",
      "2\r\n",
      "**************************************************\r\n",
      "shape\r\n",
      "(2, 3)\r\n",
      "**************************************************\r\n",
      "dtypes\r\n",
      "name    object\r\n",
      "age      int64\r\n",
      "tel      int64\r\n",
      "dtype: object\r\n",
      "**************************************************\r\n",
      "  Row_Labels  Count_AnimalName\r\n",
      "0          1                 1\r\n",
      "1          2                 2\r\n",
      "2      40804                 1\r\n",
      "3      90201                 1\r\n",
      "4      90203                 1\r\n",
      "      Row_Labels  Count_AnimalName\r\n",
      "16215      37916                 1\r\n",
      "16216      38282                 1\r\n",
      "16217      38583                 1\r\n",
      "16218      38948                 1\r\n",
      "16219      39743                 1\r\n",
      "--------------------------------------------------\r\n",
      "<class 'pandas.core.frame.DataFrame'>\r\n",
      "RangeIndex: 16220 entries, 0 to 16219\r\n",
      "Data columns (total 2 columns):\r\n",
      " #   Column            Non-Null Count  Dtype \r\n",
      "---  ------            --------------  ----- \r\n",
      " 0   Row_Labels        16217 non-null  object\r\n",
      " 1   Count_AnimalName  16220 non-null  int64 \r\n",
      "dtypes: int64(1), object(1)\r\n",
      "memory usage: 253.6+ KB\r\n",
      "None\r\n",
      "==================================================\r\n",
      "       Count_AnimalName\r\n",
      "count      16220.000000\r\n",
      "mean           6.558631\r\n",
      "std           31.862511\r\n",
      "min            1.000000\r\n",
      "25%            1.000000\r\n",
      "50%            1.000000\r\n",
      "75%            3.000000\r\n",
      "max         1195.000000\r\n"
     ]
    }
   ],
   "source": [
    "# 提取DataFrame的行索引\n",
    "print(\"*\"*50, \"index\", sep='\\n')\n",
    "print(d1.index)\n",
    "\n",
    "# 提取DataFrame的列索引\n",
    "print(\"*\"*50, \"columns\", sep='\\n')\n",
    "print(d1.columns)\n",
    "\n",
    "# 提取DataFrame的值\n",
    "print(\"*\"*50, \"values\", sep='\\n')\n",
    "print(d1.values)\n",
    "\n",
    "# 提取DataFrame的维度\n",
    "print(\"*\"*50, \"ndim\", sep='\\n')\n",
    "print(d1.ndim)\n",
    "\n",
    "# 提取DataFrame的形状\n",
    "print(\"*\"*50, \"shape\", sep='\\n')\n",
    "print(d1.shape)\n",
    "\n",
    "# 提取DataFrame的数据格式\n",
    "print(\"*\"*50, \"dtypes\", sep='\\n')\n",
    "print(d1.dtypes)\n",
    "\n",
    "print(\"*\"*50)\n",
    "# 显示数据的前几行, 不传参默认显示前五行\n",
    "print(df.head())\n",
    "\n",
    "# 显示数据的后几行, 不传参默认显示后五行\n",
    "print(df.tail())\n",
    "\n",
    "print(\"-\"*50)\n",
    "# 展示相关信息的概览\n",
    "print(df.info())\n",
    "\n",
    "print(\"=\"*50)\n",
    "# 展示相关信息的统计学数值\n",
    "print(df.describe())"
   ]
  },
  {
   "cell_type": "code",
   "execution_count": 22,
   "id": "49adb35c-45d8-4558-9ec1-dc5d20f224ff",
   "metadata": {
    "execution": {
     "iopub.execute_input": "2024-03-18T12:00:02.227648Z",
     "iopub.status.busy": "2024-03-18T12:00:02.227072Z",
     "iopub.status.idle": "2024-03-18T12:00:02.236240Z",
     "shell.execute_reply": "2024-03-18T12:00:02.235326Z",
     "shell.execute_reply.started": "2024-03-18T12:00:02.227617Z"
    },
    "scrolled": true
   },
   "outputs": [
    {
     "name": "stdout",
     "output_type": "stream",
     "text": [
      "      Row_Labels  Count_AnimalName\r\n",
      "1156       BELLA              1195\r\n",
      "9140         MAX              1153\r\n",
      "2660     CHARLIE               856\r\n",
      "3251        COCO               852\r\n",
      "12368      ROCKY               823\r\n",
      "8417        LOLA               795\r\n",
      "8552       LUCKY               723\r\n",
      "8560        LUCY               710\r\n",
      "2032       BUDDY               677\r\n",
      "3641       DAISY               649\r\n"
     ]
    }
   ],
   "source": [
    "# 对于统计的狗的名字, 想知道使用次数最高的前几个名字是什么呢\n",
    "# ascending=True表示升序\n",
    "df = df.sort_values(by=\"Count_AnimalName\",ascending=False)\n",
    "print(df.head(10))"
   ]
  },
  {
   "cell_type": "code",
   "execution_count": 23,
   "id": "445e9b3c-b1aa-4e45-a6a9-594b42c18908",
   "metadata": {
    "execution": {
     "iopub.execute_input": "2024-03-18T12:00:02.237834Z",
     "iopub.status.busy": "2024-03-18T12:00:02.237451Z",
     "iopub.status.idle": "2024-03-18T12:00:02.243350Z",
     "shell.execute_reply": "2024-03-18T12:00:02.242527Z",
     "shell.execute_reply.started": "2024-03-18T12:00:02.237805Z"
    },
    "scrolled": true
   },
   "outputs": [
    {
     "name": "stdout",
     "output_type": "stream",
     "text": [
      "1156        BELLA\r\n",
      "9140          MAX\r\n",
      "2660      CHARLIE\r\n",
      "3251         COCO\r\n",
      "12368       ROCKY\r\n",
      "8417         LOLA\r\n",
      "8552        LUCKY\r\n",
      "8560         LUCY\r\n",
      "2032        BUDDY\r\n",
      "3641        DAISY\r\n",
      "11703    PRINCESS\r\n",
      "829        BAILEY\r\n",
      "9766        MOLLY\r\n",
      "14466       TEDDY\r\n",
      "2913        CHLOE\r\n",
      "14779        TOBY\r\n",
      "8620         LUNA\r\n",
      "6515         JACK\r\n",
      "8788       MAGGIE\r\n",
      "13762      SOPHIE\r\n",
      "Name: Row_Labels, dtype: object\r\n"
     ]
    }
   ],
   "source": [
    "# pandas取行或者列\n",
    "# 方括号内写数组, 表示取行, 对行进行操作\n",
    "# 方括号内写字符串, 表示取列, 对列进行操作\n",
    "# 取前20行的名字, 取到的是Series类型\n",
    "print(df[:20][\"Row_Labels\"])"
   ]
  },
  {
   "cell_type": "code",
   "execution_count": 24,
   "id": "841d9536-15ce-4d5a-8181-e11abe0a018a",
   "metadata": {
    "execution": {
     "iopub.execute_input": "2024-03-18T12:00:02.244797Z",
     "iopub.status.busy": "2024-03-18T12:00:02.244464Z",
     "iopub.status.idle": "2024-03-18T12:00:02.258855Z",
     "shell.execute_reply": "2024-03-18T12:00:02.257996Z",
     "shell.execute_reply.started": "2024-03-18T12:00:02.244772Z"
    },
    "scrolled": true
   },
   "outputs": [
    {
     "name": "stdout",
     "output_type": "stream",
     "text": [
      "   W  X   Z   Y\r\n",
      "A  0  1   2   3\r\n",
      "B  4  5   6   7\r\n",
      "C  8  9  10  11\r\n",
      "**************************************************\r\n",
      "0\r\n",
      "**************************************************\r\n",
      "W    0\r\n",
      "Z    2\r\n",
      "Name: A, dtype: int64\r\n",
      "<class 'pandas.core.series.Series'>\r\n",
      "**************************************************\r\n",
      "   W   Z\r\n",
      "A  0   2\r\n",
      "C  8  10\r\n",
      "**************************************************\r\n",
      "   W   Z\r\n",
      "B  4   6\r\n",
      "C  8  10\r\n",
      "**************************************************\r\n",
      "A     3\r\n",
      "B     7\r\n",
      "C    11\r\n",
      "Name: Y, dtype: int64\r\n"
     ]
    }
   ],
   "source": [
    "# 还有一些优化过的选择方式\n",
    "w = pd.DataFrame(np.arange(12).reshape((3, 4)), index=list(\"ABC\"), columns=list(\"WXZY\"))\n",
    "print(w)\n",
    "\n",
    "print(\"*\"*50)\n",
    "# loc通过标签索引行数据\n",
    "print(w.loc[\"A\", \"W\"])\n",
    "\n",
    "print(\"*\"*50)\n",
    "# 可以看到从DataFrame中取一行或一列也是Series类型\n",
    "print(w.loc[\"A\", [\"W\", \"Z\"]])\n",
    "print(type(w.loc[\"A\", [\"W\", \"Z\"]]))\n",
    "\n",
    "print(\"*\"*50)\n",
    "print(w.loc[[\"A\", \"C\"], [\"W\", \"Z\"]])\n",
    "\n",
    "print(\"*\"*50)\n",
    "# 选择间隔的多行多列\n",
    "print(w.loc[\"B\":, [\"W\", \"Z\"]])\n",
    "\n",
    "print(\"*\"*50)\n",
    "# 取一整列, 也可以不写:也是一样的\n",
    "print(w.loc[:,\"Y\"])"
   ]
  },
  {
   "cell_type": "code",
   "execution_count": 25,
   "id": "761371bd-6c8d-4692-bcb2-bf5c33e294a2",
   "metadata": {
    "execution": {
     "iopub.execute_input": "2024-03-18T12:00:02.260799Z",
     "iopub.status.busy": "2024-03-18T12:00:02.260065Z",
     "iopub.status.idle": "2024-03-18T12:00:02.269170Z",
     "shell.execute_reply": "2024-03-18T12:00:02.268369Z",
     "shell.execute_reply.started": "2024-03-18T12:00:02.260770Z"
    },
    "scrolled": true
   },
   "outputs": [
    {
     "name": "stdout",
     "output_type": "stream",
     "text": [
      "W    4\r\n",
      "X    5\r\n",
      "Z    6\r\n",
      "Y    7\r\n",
      "Name: B, dtype: int64\r\n",
      "A     2\r\n",
      "B     6\r\n",
      "C    10\r\n",
      "Name: Z, dtype: int64\r\n",
      "    Z  X\r\n",
      "A   2  1\r\n",
      "B   6  5\r\n",
      "C  10  9\r\n",
      "    Z  X\r\n",
      "A   2  1\r\n",
      "C  10  9\r\n"
     ]
    }
   ],
   "source": [
    "# iloc通过位置获取行数据\n",
    "# 下标从0开始\n",
    "print(w.iloc[1, :])\n",
    "\n",
    "print(w.iloc[:,2])\n",
    "\n",
    "print(w.iloc[:,[2, 1]])\n",
    "\n",
    "print(w.iloc[[0, 2], [2, 1]])"
   ]
  },
  {
   "cell_type": "code",
   "execution_count": 26,
   "id": "43394bdb-7df5-4bc3-b016-38eb0710c895",
   "metadata": {
    "execution": {
     "iopub.execute_input": "2024-03-18T12:00:02.270764Z",
     "iopub.status.busy": "2024-03-18T12:00:02.270271Z",
     "iopub.status.idle": "2024-03-18T12:00:02.286765Z",
     "shell.execute_reply": "2024-03-18T12:00:02.285890Z",
     "shell.execute_reply.started": "2024-03-18T12:00:02.270737Z"
    },
    "scrolled": true
   },
   "outputs": [
    {
     "name": "stdout",
     "output_type": "stream",
     "text": [
      "      Row_Labels  Count_AnimalName\r\n",
      "1156       BELLA              1195\r\n",
      "9140         MAX              1153\r\n",
      "2660     CHARLIE               856\r\n",
      "3251        COCO               852\r\n",
      "12368      ROCKY               823\r\n",
      "\r\n",
      "      Row_Labels  Count_AnimalName\r\n",
      "2660     CHARLIE               856\r\n",
      "3251        COCO               852\r\n",
      "12368      ROCKY               823\r\n",
      "      Row_Labels  Count_AnimalName\r\n",
      "1156       BELLA              1195\r\n",
      "2660     CHARLIE               856\r\n",
      "12368      ROCKY               823\r\n",
      "8552       LUCKY               723\r\n"
     ]
    }
   ],
   "source": [
    "# 布尔索引\n",
    "# 选择使用次数超过800次的名字\n",
    "print(df[df[\"Count_AnimalName\"]>800])\n",
    "print()\n",
    "# 选择使用次数在800和1000次之间的名字\n",
    "print(df[(df[\"Count_AnimalName\"]>800) & (df[\"Count_AnimalName\"]<1000)])\n",
    "# 选择使用次数超过700次并且名字的字符串长度大于4的名字\n",
    "print(df[(df[\"Count_AnimalName\"] > 700) & (df[\"Row_Labels\"].str.len() > 4)])\n",
    "\n",
    "# 不同条件之间需要用括号括起来  "
   ]
  },
  {
   "cell_type": "code",
   "execution_count": 27,
   "id": "da93b4b2-0671-4535-97fb-79a15827c2ec",
   "metadata": {
    "execution": {
     "iopub.execute_input": "2024-03-18T12:00:02.288387Z",
     "iopub.status.busy": "2024-03-18T12:00:02.288003Z",
     "iopub.status.idle": "2024-03-18T12:00:02.314637Z",
     "shell.execute_reply": "2024-03-18T12:00:02.313599Z",
     "shell.execute_reply.started": "2024-03-18T12:00:02.288361Z"
    },
    "scrolled": true,
    "tags": []
   },
   "outputs": [
    {
     "name": "stdout",
     "output_type": "stream",
     "text": [
      "     0    1    2    3\r\n",
      "0  1.0  2.0  3.0  4.0\r\n",
      "1  NaN  NaN  5.0  6.0\r\n",
      "2  7.0  8.0  NaN  9.0\r\n",
      "\r\n",
      "       0      1      2      3\r\n",
      "0  False  False  False  False\r\n",
      "1   True   True  False  False\r\n",
      "2  False  False   True  False\r\n",
      "\r\n",
      "       0      1      2     3\r\n",
      "0   True   True   True  True\r\n",
      "1  False  False   True  True\r\n",
      "2   True   True  False  True\r\n",
      "\r\n",
      "     0    1    2    3\r\n",
      "0  1.0  2.0  3.0  4.0\r\n",
      "**************************************************\r\n",
      "\r\n",
      "     0    1    2    3\r\n",
      "0  1.0  2.0  3.0  4.0\r\n",
      "1  4.0  5.0  5.0  6.0\r\n",
      "2  7.0  8.0  4.0  9.0\r\n",
      "\r\n",
      "     0    1    2    3\r\n",
      "0  1.0  2.0  3.0  4.0\r\n",
      "1  4.0  5.0  5.0  6.0\r\n",
      "2  7.0  8.0  4.0  9.0\r\n",
      "\r\n",
      "     0    1    2    3\r\n",
      "0  1.0  2.0  3.0  4.0\r\n",
      "1  0.0  0.0  5.0  6.0\r\n",
      "2  7.0  8.0  0.0  9.0\r\n",
      "**************************************************\r\n",
      "0    1.0\r\n",
      "1    4.0\r\n",
      "2    7.0\r\n",
      "Name: 0, dtype: float64\r\n"
     ]
    }
   ],
   "source": [
    "# 缺失数据的处理\n",
    "# 一种是空, 即NaN, 另一种是0\n",
    "\n",
    "w = pd.DataFrame(np.array([1.0, 2.0, 3.0, 4.0, np.nan, np.nan, 5.0, 6.0, 7.0, 8.0, np.nan, 9.0]).reshape((3, 4)))\n",
    "print(w)\n",
    "\n",
    "# 判断是否为NaN\n",
    "print()\n",
    "print(pd.isnull(w))\n",
    "\n",
    "print()\n",
    "print(pd.notnull(w))\n",
    "\n",
    "# 第一种方法是删除NaN所在的行列\n",
    "# axis=0表示删除行\n",
    "# how=\"any\"是默认的, 只要这一行有NaN就删除这一行\n",
    "# how=\"all\"是默认的, 这一行全部都是NaN才删除这一行\n",
    "# inplace表示是否进行原地修改\n",
    "print()\n",
    "print(w.dropna(axis=0, how='any', inplace=False))\n",
    "\n",
    "# 第二种方法是填充数据\n",
    "print(\"*\"*50)\n",
    "print()\n",
    "print(w.fillna(w.mean()))\n",
    "print()\n",
    "print(w.fillna(w.median()))\n",
    "print()\n",
    "print(w.fillna(0))\n",
    "print(\"*\"*50)\n",
    "\n",
    "\n",
    "# 假如只对第0列的NaN进行操作\n",
    "print(w[0].fillna(w[0].median()))\n",
    "\n",
    "# 处理为0的数据\n",
    "# w[w==0] = np.nan\n",
    "\n",
    "\n",
    "# 在numpy中遇到nan时计算返回结果也是nan\n",
    "# 但是在pandas中遇到nan时一样可以计算"
   ]
  }
 ],
 "metadata": {
  "kernelspec": {
   "display_name": "Python 3",
   "language": "python",
   "name": "py35-paddle1.2.0"
  },
  "language_info": {
   "codemirror_mode": {
    "name": "ipython",
    "version": 3
   },
   "file_extension": ".py",
   "mimetype": "text/x-python",
   "name": "python",
   "nbconvert_exporter": "python",
   "pygments_lexer": "ipython3",
   "version": "3.10.10"
  }
 },
 "nbformat": 4,
 "nbformat_minor": 5
}
