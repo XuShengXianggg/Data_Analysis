{
 "cells": [
  {
   "cell_type": "markdown",
   "id": "9ff44d51-5309-453f-b6a8-5a0fa5799d3c",
   "metadata": {},
   "source": [
    "# pandas统计方法"
   ]
  },
  {
   "cell_type": "markdown",
   "id": "288c40f6-769f-440b-b4e4-8d26a7e32be3",
   "metadata": {},
   "source": [
    "假设现在我们有一组从2006年到2016年1000部最流行的电影数据, 我们想知道这些电影数据中评分的平均分, 导演的人数等信息, 我们应该怎么获取?"
   ]
  },
  {
   "cell_type": "code",
   "execution_count": 91,
   "id": "4e74dae1-d488-414a-bf79-dc0ac832edd8",
   "metadata": {
    "execution": {
     "iopub.execute_input": "2024-03-18T12:18:21.438471Z",
     "iopub.status.busy": "2024-03-18T12:18:21.437175Z",
     "iopub.status.idle": "2024-03-18T12:18:21.475258Z",
     "shell.execute_reply": "2024-03-18T12:18:21.474370Z",
     "shell.execute_reply.started": "2024-03-18T12:18:21.438425Z"
    },
    "scrolled": true
   },
   "outputs": [
    {
     "name": "stdout",
     "output_type": "stream",
     "text": [
      "<class 'pandas.core.frame.DataFrame'>\r\n",
      "RangeIndex: 1000 entries, 0 to 999\r\n",
      "Data columns (total 12 columns):\r\n",
      " #   Column              Non-Null Count  Dtype  \r\n",
      "---  ------              --------------  -----  \r\n",
      " 0   Rank                1000 non-null   int64  \r\n",
      " 1   Title               1000 non-null   object \r\n",
      " 2   Genre               1000 non-null   object \r\n",
      " 3   Description         1000 non-null   object \r\n",
      " 4   Director            1000 non-null   object \r\n",
      " 5   Actors              1000 non-null   object \r\n",
      " 6   Year                1000 non-null   int64  \r\n",
      " 7   Runtime (Minutes)   1000 non-null   int64  \r\n",
      " 8   Rating              1000 non-null   float64\r\n",
      " 9   Votes               1000 non-null   int64  \r\n",
      " 10  Revenue (Millions)  872 non-null    float64\r\n",
      " 11  Metascore           936 non-null    float64\r\n",
      "dtypes: float64(3), int64(4), object(5)\r\n",
      "memory usage: 93.9+ KB\r\n",
      "None\r\n",
      "   Rank                    Title                    Genre  \\\r\n",
      "0     1  Guardians of the Galaxy  Action,Adventure,Sci-Fi   \r\n",
      "\r\n",
      "                                         Description    Director  \\\r\n",
      "0  A group of intergalactic criminals are forced ...  James Gunn   \r\n",
      "\r\n",
      "                                              Actors  Year  Runtime (Minutes)  \\\r\n",
      "0  Chris Pratt, Vin Diesel, Bradley Cooper, Zoe S...  2014                121   \r\n",
      "\r\n",
      "   Rating   Votes  Revenue (Millions)  Metascore  \r\n",
      "0     8.1  757074              333.13       76.0  \r\n",
      "\r\n",
      "==================================================\r\n",
      "6.723199999999999\r\n",
      "644\r\n",
      "644\r\n",
      "\r\n",
      "2394\r\n"
     ]
    }
   ],
   "source": [
    "import pandas as pd\n",
    "import numpy as np\n",
    "file_path = \"./IMDB-Movie-Data.csv\"\n",
    "\n",
    "df = pd.read_csv(file_path)\n",
    "# 从文件信息中可以看出Revenue和Metascore字段有缺失\n",
    "print(df.info())\n",
    "print(df.head(1))\n",
    "print()\n",
    "\n",
    "# 获取电影的平均评分\n",
    "print(\"=\"*50)\n",
    "print(df[\"Rating\"].mean())\n",
    "\n",
    "# 求导演的人数, 导演还有可能会重复, 因此要用set\n",
    "print(len(set(df[\"Director\"].tolist())))\n",
    "# df[\"Director\"].unique()会自动生成不重复的列表\n",
    "print(len(df[\"Director\"].unique()))\n",
    "\n",
    "print()\n",
    "# 获取演员人数\n",
    "# 按照','分割字符串\n",
    "tlist = df[\"Actors\"].str.split(',').tolist()\n",
    "# 合并所有列表到一个列表中\n",
    "merged_list = [actor for sublist in tlist for actor in sublist]\n",
    "# print(merged_list)\n",
    "print(len(set(merged_list)))"
   ]
  },
  {
   "cell_type": "markdown",
   "id": "49b6bd8b-144d-4eee-b75a-60b50aeec268",
   "metadata": {},
   "source": [
    "对于这一组电影数据，如果我们想rating，runtime的分布情况，应该如何呈现数据？"
   ]
  },
  {
   "cell_type": "code",
   "execution_count": 92,
   "id": "a08d19e3-9920-4501-80db-07d563d05132",
   "metadata": {
    "execution": {
     "iopub.execute_input": "2024-03-18T12:18:21.477745Z",
     "iopub.status.busy": "2024-03-18T12:18:21.476985Z",
     "iopub.status.idle": "2024-03-18T12:18:21.687061Z",
     "shell.execute_reply": "2024-03-18T12:18:21.686309Z",
     "shell.execute_reply.started": "2024-03-18T12:18:21.477709Z"
    },
    "scrolled": true
   },
   "outputs": [
    {
     "name": "stdout",
     "output_type": "stream",
     "text": [
      "<class 'pandas.core.frame.DataFrame'>\r\n",
      "RangeIndex: 1000 entries, 0 to 999\r\n",
      "Data columns (total 12 columns):\r\n",
      " #   Column              Non-Null Count  Dtype  \r\n",
      "---  ------              --------------  -----  \r\n",
      " 0   Rank                1000 non-null   int64  \r\n",
      " 1   Title               1000 non-null   object \r\n",
      " 2   Genre               1000 non-null   object \r\n",
      " 3   Description         1000 non-null   object \r\n",
      " 4   Director            1000 non-null   object \r\n",
      " 5   Actors              1000 non-null   object \r\n",
      " 6   Year                1000 non-null   int64  \r\n",
      " 7   Runtime (Minutes)   1000 non-null   int64  \r\n",
      " 8   Rating              1000 non-null   float64\r\n",
      " 9   Votes               1000 non-null   int64  \r\n",
      " 10  Revenue (Millions)  872 non-null    float64\r\n",
      " 11  Metascore           936 non-null    float64\r\n",
      "dtypes: float64(3), int64(4), object(5)\r\n",
      "memory usage: 93.9+ KB\r\n",
      "None\r\n",
      "125\r\n"
     ]
    },
    {
     "data": {
      "image/png": "[encoded data removed]",
      "text/plain": [
       "<Figure size 1600x640 with 1 Axes>"
      ]
     },
     "metadata": {},
     "output_type": "display_data"
    }
   ],
   "source": [
    "from matplotlib import pyplot as plt\n",
    "print(df.info())\n",
    "\n",
    "# rating分布情况, 直方图\n",
    "runtime_data = df[\"Runtime (Minutes)\"].values\n",
    "# print(runtime_data)\n",
    "max_runtime = runtime_data.max()\n",
    "min_runtime = runtime_data.min()\n",
    "\n",
    "# 计算组数\n",
    "num_bin = (max_runtime - min_runtime) // 10\n",
    "print(max_runtime - min_runtime)\n",
    "plt.figure(figsize=(20, 8), dpi=80)\n",
    "plt.hist(runtime_data, num_bin)\n",
    "plt.show()"
   ]
  },
  {
   "cell_type": "code",
   "execution_count": 93,
   "id": "bfe11324-e1ba-44f8-8905-062f10164c11",
   "metadata": {
    "execution": {
     "iopub.execute_input": "2024-03-18T12:18:21.688677Z",
     "iopub.status.busy": "2024-03-18T12:18:21.688371Z",
     "iopub.status.idle": "2024-03-18T12:18:21.978755Z",
     "shell.execute_reply": "2024-03-18T12:18:21.978021Z",
     "shell.execute_reply.started": "2024-03-18T12:18:21.688650Z"
    },
    "scrolled": true
   },
   "outputs": [
    {
     "data": {
      "image/png": "[encoded data removed]",
      "text/plain": [
       "<Figure size 1600x640 with 1 Axes>"
      ]
     },
     "metadata": {},
     "output_type": "display_data"
    }
   ],
   "source": [
    "num_bin = (max_runtime - min_runtime) // 5\n",
    "plt.figure(figsize=(20, 8), dpi=80)\n",
    "plt.hist(runtime_data, num_bin)\n",
    "plt.xticks(range(min_runtime, max_runtime+5, 5))\n",
    "plt.show()"
   ]
  },
  {
   "cell_type": "markdown",
   "id": "4706c2d6-2365-42d1-ad19-4981d1af526b",
   "metadata": {},
   "source": [
    "对于这一组电影数据，如果我们希望统计电影分类(genre)的情况，应该如何处理数据？\n",
    "\n",
    "思路：重新构造一个全为0的数组，列名为分类，如果某一条数据中分类出现过，就让0变为1\n"
   ]
  },
  {
   "cell_type": "code",
   "execution_count": 94,
   "id": "3f8951fa-efd5-4f26-bad3-310dcf401245",
   "metadata": {
    "execution": {
     "iopub.execute_input": "2024-03-18T12:18:21.980879Z",
     "iopub.status.busy": "2024-03-18T12:18:21.979835Z",
     "iopub.status.idle": "2024-03-18T12:18:21.984191Z",
     "shell.execute_reply": "2024-03-18T12:18:21.983365Z",
     "shell.execute_reply.started": "2024-03-18T12:18:21.980849Z"
    },
    "scrolled": true
   },
   "outputs": [],
   "source": [
    "# print(df.head(1))\n",
    "# print()\n",
    "# print(df[\"Genre\"])\n"
   ]
  },
  {
   "cell_type": "code",
   "execution_count": 95,
   "id": "2be13095-2bdf-4328-961c-e641b7b55b6f",
   "metadata": {
    "execution": {
     "iopub.execute_input": "2024-03-18T12:18:21.986860Z",
     "iopub.status.busy": "2024-03-18T12:18:21.986287Z",
     "iopub.status.idle": "2024-03-18T12:18:22.924108Z",
     "shell.execute_reply": "2024-03-18T12:18:22.923313Z",
     "shell.execute_reply.started": "2024-03-18T12:18:21.986826Z"
    },
    "scrolled": true
   },
   "outputs": [
    {
     "name": "stdout",
     "output_type": "stream",
     "text": [
      "['Family', 'War', 'Mystery', 'History', 'Drama', 'Horror', 'Fantasy', 'Thriller', 'Romance', 'Adventure', 'Musical', 'Biography', 'Comedy', 'Action', 'Animation', 'Sci-Fi', 'Music', 'Western', 'Crime', 'Sport']\r\n",
      "\r\n",
      "   Family  War  Mystery  History  Drama  Horror  Fantasy  Thriller  Romance  \\\r\n",
      "0       0    0        0        0      0       0        0         0        0   \r\n",
      "1       0    0        1        0      0       0        0         0        0   \r\n",
      "2       0    0        0        0      0       1        0         1        0   \r\n",
      "3       1    0        0        0      0       0        0         0        0   \r\n",
      "4       0    0        0        0      0       0        1         0        0   \r\n",
      "\r\n",
      "   Adventure  Musical  Biography  Comedy  Action  Animation  Sci-Fi  Music  \\\r\n",
      "0          1        0          0       0       1          0       1      0   \r\n",
      "1          1        0          0       0       0          0       1      0   \r\n",
      "2          0        0          0       0       0          0       0      0   \r\n",
      "3          0        0          0       1       0          1       0      0   \r\n",
      "4          1        0          0       0       1          0       0      0   \r\n",
      "\r\n",
      "   Western  Crime  Sport  \r\n",
      "0        0      0      0  \r\n",
      "1        0      0      0  \r\n",
      "2        0      0      0  \r\n",
      "3        0      0      0  \r\n",
      "4        0      0      0  \r\n",
      "\r\n",
      "Musical        5\r\n",
      "Western        7\r\n",
      "War           13\r\n",
      "Music         16\r\n",
      "Sport         18\r\n",
      "History       29\r\n",
      "Animation     49\r\n",
      "Family        51\r\n",
      "Biography     81\r\n",
      "Fantasy      101\r\n",
      "Mystery      106\r\n",
      "Horror       119\r\n",
      "Sci-Fi       120\r\n",
      "Romance      141\r\n",
      "Crime        150\r\n",
      "Thriller     195\r\n",
      "Adventure    259\r\n",
      "Comedy       279\r\n",
      "Action       303\r\n",
      "Drama        513\r\n",
      "dtype: int64\r\n"
     ]
    }
   ],
   "source": [
    "import numpy as np\n",
    "# 统计分类的列表\n",
    "tlist = df[\"Genre\"].str.split(',').tolist()\n",
    "# 合并所有列表到一个列表中\n",
    "merged_list = [actor for sublist in tlist for actor in sublist]\n",
    "genre_list = list(set(merged_list))\n",
    "print(genre_list)\n",
    "\n",
    "# 创建一个1000行20列，并且列标签是genre_list的全0数组\n",
    "zeros_df = pd.DataFrame(0, index=range(1000), columns=genre_list)\n",
    "# print(zeros_df)\n",
    "\n",
    "print()\n",
    "# 给每个电影出现分类的位置赋值1\n",
    "for i in range(1000):\n",
    "    zeros_df.loc[i, tlist[i]] = 1\n",
    "print(zeros_df.head())\n",
    "\n",
    "print()\n",
    "# 统计每个分类的电影数量和\n",
    "genre_count = zeros_df.sum(axis=0)\n",
    "genre_count = genre_count.sort_values()\n",
    "print(genre_count)"
   ]
  },
  {
   "cell_type": "code",
   "execution_count": 96,
   "id": "e73d5398-f13b-4787-82c8-1fa755d0cb80",
   "metadata": {
    "execution": {
     "iopub.execute_input": "2024-03-18T12:18:22.925503Z",
     "iopub.status.busy": "2024-03-18T12:18:22.925203Z",
     "iopub.status.idle": "2024-03-18T12:18:22.942198Z",
     "shell.execute_reply": "2024-03-18T12:18:22.941542Z",
     "shell.execute_reply.started": "2024-03-18T12:18:22.925466Z"
    },
    "scrolled": true
   },
   "outputs": [
    {
     "name": "stdout",
     "output_type": "stream",
     "text": [
      "      name  dept_id\r\n",
      "1    Alice       10\r\n",
      "2      Bob       20\r\n",
      "3  Charlie       10\r\n",
      "4    David       30\r\n",
      "   dept_name\r\n",
      "10        HR\r\n",
      "20   Finance\r\n",
      "30        IT\r\n",
      "      name  dept_id dept_name\r\n",
      "1    Alice       10        HR\r\n",
      "2      Bob       20   Finance\r\n",
      "3  Charlie       10        HR\r\n",
      "4    David       30        IT\r\n",
      "******************************\r\n",
      "    dept_name\r\n",
      "100        HR\r\n",
      "200   Finance\r\n",
      "300        IT\r\n",
      "      name  dept_id dept_name\r\n",
      "1    Alice       10       NaN\r\n",
      "2      Bob       20       NaN\r\n",
      "3  Charlie       10       NaN\r\n",
      "4    David       30       NaN\r\n"
     ]
    }
   ],
   "source": [
    "# 数据合并\n",
    "# join: 默认情况下把行索引相同的数据合并到一起\n",
    "# DataFrame.join(\n",
    "#     other,                要加入的DataFrame或带有多个DataFrame的Series\n",
    "#     on=None,              用于连接的列名。如果未指定，则使用索引进行连接。\n",
    "#     how='left',           指定合并的方式。可以是'left'（左连接，默认），'right'（右连接），'outer'（外连接）或'inner'（内连接）\n",
    "#     lsuffix='',           用于区分具有相同列名的列的后缀。仅当合并的DataFrame具有重叠的列名时需要。\n",
    "#     rsuffix='', \n",
    "#     sort=False            按照连接键对合并后的数据进行排序\n",
    "# )\n",
    "\n",
    "df_emp = pd.DataFrame({\n",
    "    'name': ['Alice', 'Bob', 'Charlie', 'David'],\n",
    "    'dept_id': [10, 20, 10, 30]\n",
    "}, index=[1, 2, 3, 4])\n",
    "print(df_emp)\n",
    "\n",
    "df_dept = pd.DataFrame({\n",
    "    'dept_name': ['HR', 'Finance', 'IT']\n",
    "}, index=[10, 20, 30])\n",
    "print(df_dept)\n",
    "\n",
    "# 加到什么上就以什么为准\n",
    "df_joined = df_emp.join(df_dept, on='dept_id')\n",
    "print(df_joined)\n",
    "# 使用dept_id列将df_emp和df_dept合并\n",
    "# 由于join默认使用左连接，所以df_emp中的所有行都会出现在结果中， \n",
    "# 即使在df_dept中没有匹配的索引也是如此.如果df_dept中没有匹配的dept_id, 则对应的dept_name会被设置为NaN.\n",
    "print(\"*\"*30)\n",
    "\n",
    "df_dept = pd.DataFrame({\n",
    "    'dept_name': ['HR', 'Finance', 'IT']\n",
    "}, index=[100, 200, 300])\n",
    "print(df_dept)\n",
    "df_joined = df_emp.join(df_dept, on='dept_id')\n",
    "print(df_joined)"
   ]
  },
  {
   "cell_type": "code",
   "execution_count": 97,
   "id": "cee2dbf0-b3b7-4c3b-a51b-e1850e646c82",
   "metadata": {
    "execution": {
     "iopub.execute_input": "2024-03-18T12:18:22.943532Z",
     "iopub.status.busy": "2024-03-18T12:18:22.943198Z",
     "iopub.status.idle": "2024-03-18T12:18:22.961628Z",
     "shell.execute_reply": "2024-03-18T12:18:22.960964Z",
     "shell.execute_reply.started": "2024-03-18T12:18:22.943495Z"
    },
    "scrolled": true
   },
   "outputs": [
    {
     "name": "stdout",
     "output_type": "stream",
     "text": [
      "   emp_id     name  dept_id\r\n",
      "0       1    Alice       10\r\n",
      "1       2      Bob       20\r\n",
      "2       3  Charlie       10\r\n",
      "3       4    David       30\r\n",
      "   dept_id dept_name\r\n",
      "0       10        HR\r\n",
      "1       20   Finance\r\n",
      "2       30        IT\r\n",
      "   emp_id     name  dept_id dept_name\r\n",
      "0       1    Alice       10        HR\r\n",
      "1       3  Charlie       10        HR\r\n",
      "2       2      Bob       20   Finance\r\n",
      "3       4    David       30        IT\r\n",
      "******************************\r\n",
      "   dept_id dept_name\r\n",
      "0       10        HR\r\n",
      "1      200   Finance\r\n",
      "2      300        IT\r\n",
      "   emp_id     name  dept_id dept_name\r\n",
      "0       1    Alice       10        HR\r\n",
      "1       3  Charlie       10        HR\r\n"
     ]
    }
   ],
   "source": [
    "# merge: 默认情况下把列索引相同的数据合并到一起\n",
    "# pd.merge(\n",
    "#     left,                 要合并的第一个DataFrame\n",
    "#     right,                要合并的第二个DataFrame\n",
    "#     how='inner',          指定合并的方式。可以是'inner'（内连接，默认），'outer'（外连接），'left'（左连接）或'right'（右连接）\n",
    "#     on=None,              用于连接的列名。必须在两个DataFrame中都存在\n",
    "#     left_on=None,         左DataFrame中用作连接键的列名\n",
    "#     right_on=None,        右DataFrame中用作连接键的列名\n",
    "#     left_index=False, \n",
    "#     right_index=False, \n",
    "#     sort=True,            按照连接键对合并后的数据进行排序\n",
    "#     suffixes=('_x', '_y'), 用于区分具有相同列名的列的后缀\n",
    "#     copy=True, \n",
    "#     indicator=False,      如果为True，则添加一个名为\"_merge\"的特殊列，表示每行的来源\n",
    "#     validate=None         检查合并后的DataFrame是否满足指定的完整性约束\n",
    "# )\n",
    "df_emp = pd.DataFrame({\n",
    "    'emp_id': [1, 2, 3, 4],\n",
    "    'name': ['Alice', 'Bob', 'Charlie', 'David'],\n",
    "    'dept_id': [10, 20, 10, 30]\n",
    "})\n",
    "print(df_emp)\n",
    "\n",
    "df_dept = pd.DataFrame({\n",
    "    'dept_id': [10, 20, 30],\n",
    "    'dept_name': ['HR', 'Finance', 'IT']\n",
    "})\n",
    "print(df_dept)\n",
    "\n",
    "df_merged = pd.merge(df_emp, df_dept, on='dept_id')\n",
    "\n",
    "print(df_merged)\n",
    "\n",
    "# 使用dept_id列将df_emp和df_dept合并\n",
    "# 默认情况下，merge使用内连接，因此只有在两个DataFrame中都有匹配的dept_id时，才会出现在结果中\n",
    "# 类似于求交集\n",
    "print(\"*\"*30)\n",
    "\n",
    "df_dept = pd.DataFrame({\n",
    "    'dept_id': [10, 200, 300],\n",
    "    'dept_name': ['HR', 'Finance', 'IT']\n",
    "})\n",
    "print(df_dept)\n",
    "\n",
    "df_merged = pd.merge(df_emp, df_dept, on='dept_id')\n",
    "\n",
    "print(df_merged)"
   ]
  },
  {
   "cell_type": "markdown",
   "id": "ae19663e-920f-45ee-b5b3-e475f3c69318",
   "metadata": {},
   "source": [
    "## 分组和聚合"
   ]
  },
  {
   "cell_type": "markdown",
   "id": "3e8550b7-2aad-4cf8-905d-a8df8b4b790d",
   "metadata": {},
   "source": [
    "现在我们有一组关于全球星巴克店铺的统计数据，如果我想知道美国的星巴克数量和中国的哪个多，或者我想知道中国每个省份星巴克的数量的情况，那么应该怎么办？"
   ]
  },
  {
   "cell_type": "code",
   "execution_count": 98,
   "id": "3391454f-2ea8-40c5-8d97-6ad02e20babf",
   "metadata": {
    "execution": {
     "iopub.execute_input": "2024-03-18T12:18:22.963326Z",
     "iopub.status.busy": "2024-03-18T12:18:22.962554Z",
     "iopub.status.idle": "2024-03-18T12:18:23.071015Z",
     "shell.execute_reply": "2024-03-18T12:18:23.070238Z",
     "shell.execute_reply.started": "2024-03-18T12:18:22.963297Z"
    },
    "scrolled": true
   },
   "outputs": [
    {
     "name": "stdout",
     "output_type": "stream",
     "text": [
      "<class 'pandas.core.frame.DataFrame'>\r\n",
      "RangeIndex: 25600 entries, 0 to 25599\r\n",
      "Data columns (total 13 columns):\r\n",
      " #   Column          Non-Null Count  Dtype  \r\n",
      "---  ------          --------------  -----  \r\n",
      " 0   Brand           25600 non-null  object \r\n",
      " 1   Store Number    25600 non-null  object \r\n",
      " 2   Store Name      25600 non-null  object \r\n",
      " 3   Ownership Type  25600 non-null  object \r\n",
      " 4   Street Address  25598 non-null  object \r\n",
      " 5   City            25585 non-null  object \r\n",
      " 6   State/Province  25600 non-null  object \r\n",
      " 7   Country         25600 non-null  object \r\n",
      " 8   Postcode        24078 non-null  object \r\n",
      " 9   Phone Number    18739 non-null  object \r\n",
      " 10  Timezone        25600 non-null  object \r\n",
      " 11  Longitude       25599 non-null  float64\r\n",
      " 12  Latitude        25599 non-null  float64\r\n",
      "dtypes: float64(2), object(11)\r\n",
      "memory usage: 2.5+ MB\r\n",
      "None\r\n",
      "******************************\r\n",
      "       Brand  Store Number     Store Name Ownership Type     Street Address  \\\r\n",
      "0  Starbucks  47370-257954  Meritxell, 96       Licensed  Av. Meritxell, 96   \r\n",
      "\r\n",
      "               City State/Province Country Postcode Phone Number  \\\r\n",
      "0  Andorra la Vella              7      AD    AD500    376818720   \r\n",
      "\r\n",
      "                  Timezone  Longitude  Latitude  \r\n",
      "0  GMT+1:00 Europe/Andorra       1.53     42.51  \r\n"
     ]
    }
   ],
   "source": [
    "path_file = \"./starbucks_store_worldwide.csv\"\n",
    "df = pd.read_csv(path_file)\n",
    "print(df.info())\n",
    "print(\"*\"*30)\n",
    "print(df.head(1))"
   ]
  },
  {
   "cell_type": "code",
   "execution_count": 99,
   "id": "5e57ac6d-5284-4f54-acf1-45eaac5b4724",
   "metadata": {
    "execution": {
     "iopub.execute_input": "2024-03-18T12:18:23.073001Z",
     "iopub.status.busy": "2024-03-18T12:18:23.072273Z",
     "iopub.status.idle": "2024-03-18T12:18:23.096899Z",
     "shell.execute_reply": "2024-03-18T12:18:23.096222Z",
     "shell.execute_reply.started": "2024-03-18T12:18:23.072960Z"
    },
    "scrolled": true
   },
   "outputs": [
    {
     "name": "stdout",
     "output_type": "stream",
     "text": [
      "<pandas.core.groupby.generic.DataFrameGroupBy object at 0x7fb4dc8e6e60>\r\n",
      "         Brand  Store Number  Store Name  Ownership Type  Street Address  \\\r\n",
      "Country                                                                    \r\n",
      "AD           1             1           1               1               1   \r\n",
      "AE         144           144         144             144             144   \r\n",
      "AR         108           108         108             108             108   \r\n",
      "AT          18            18          18              18              18   \r\n",
      "AU          22            22          22              22              22   \r\n",
      "...        ...           ...         ...             ...             ...   \r\n",
      "TT           3             3           3               3               3   \r\n",
      "TW         394           394         394             394             394   \r\n",
      "US       13608         13608       13608           13608           13608   \r\n",
      "VN          25            25          25              25              25   \r\n",
      "ZA           3             3           3               3               3   \r\n",
      "\r\n",
      "          City  State/Province  Postcode  Phone Number  Timezone  Longitude  \\\r\n",
      "Country                                                                       \r\n",
      "AD           1               1         1             1         1          1   \r\n",
      "AE         144             144        24            78       144        144   \r\n",
      "AR         108             108       100            29       108        108   \r\n",
      "AT          18              18        18            17        18         18   \r\n",
      "AU          22              22        22             0        22         22   \r\n",
      "...        ...             ...       ...           ...       ...        ...   \r\n",
      "TT           3               3         3             0         3          3   \r\n",
      "TW         394             394       365            39       394        394   \r\n",
      "US       13608           13608     13607         13122     13608      13608   \r\n",
      "VN          25              25        25            23        25         25   \r\n",
      "ZA           3               3         3             2         3          3   \r\n",
      "\r\n",
      "         Latitude  \r\n",
      "Country            \r\n",
      "AD              1  \r\n",
      "AE            144  \r\n",
      "AR            108  \r\n",
      "AT             18  \r\n",
      "AU             22  \r\n",
      "...           ...  \r\n",
      "TT              3  \r\n",
      "TW            394  \r\n",
      "US          13608  \r\n",
      "VN             25  \r\n",
      "ZA              3  \r\n",
      "\r\n",
      "[73 rows x 12 columns]\r\n",
      "Country\r\n",
      "AD        1\r\n",
      "AE      144\r\n",
      "AR      108\r\n",
      "AT       18\r\n",
      "AU       22\r\n",
      "      ...  \r\n",
      "TT        3\r\n",
      "TW      394\r\n",
      "US    13608\r\n",
      "VN       25\r\n",
      "ZA        3\r\n",
      "Name: Brand, Length: 73, dtype: int64\r\n",
      "13608\r\n",
      "2734\r\n"
     ]
    }
   ],
   "source": [
    "# 在pandas中类似的分组的操作有很简单的方式来完成\n",
    "# df.groupby(by=\"columns_name\")\n",
    "grouped = df.groupby(by=\"Country\")\n",
    "print(grouped)\n",
    "\n",
    "# DataFrameGroupBy 可以进行遍历 也可以调用聚合方法\n",
    "# 本质上是把所有相同的Country放到一起\n",
    "# for i in grouped:\n",
    "#     print(i)\n",
    "#     print(\"-\"*30)\n",
    "# pf = df[df[\"Country\"]==\"CN\"]\n",
    "# print(pf)\n",
    "\n",
    "# 统计数据\n",
    "# count()用于对索引计数\n",
    "print(grouped.count())\n",
    "\n",
    "# 取第一列\n",
    "country_count = grouped[\"Brand\"].count()\n",
    "print(country_count)\n",
    "\n",
    "# 输出美国数量和中国数量\n",
    "print(country_count[\"US\"])\n",
    "print(country_count[\"CN\"])"
   ]
  },
  {
   "cell_type": "code",
   "execution_count": 100,
   "id": "09f64a4a-510b-434a-8ecb-ca5f58a76e20",
   "metadata": {
    "execution": {
     "iopub.execute_input": "2024-03-18T12:18:23.098628Z",
     "iopub.status.busy": "2024-03-18T12:18:23.097957Z",
     "iopub.status.idle": "2024-03-18T12:18:23.113681Z",
     "shell.execute_reply": "2024-03-18T12:18:23.113010Z",
     "shell.execute_reply.started": "2024-03-18T12:18:23.098598Z"
    },
    "scrolled": true
   },
   "outputs": [
    {
     "name": "stdout",
     "output_type": "stream",
     "text": [
      "          Brand  Store Number           Store Name Ownership Type  \\\r\n",
      "2091  Starbucks  22901-225145            北京西站第一咖啡店  Company Owned   \r\n",
      "2092  Starbucks  32320-116537              北京华宇时尚店  Company Owned   \r\n",
      "2093  Starbucks  32447-132306           北京蓝色港湾圣拉娜店  Company Owned   \r\n",
      "2094  Starbucks  17477-161286           北京太阳宫凯德嘉茂店  Company Owned   \r\n",
      "2095  Starbucks  24520-237564              北京东三环北店  Company Owned   \r\n",
      "...         ...           ...                  ...            ...   \r\n",
      "4820  Starbucks  17872-186929                Sands       Licensed   \r\n",
      "4821  Starbucks  24126-235784              Wynn II       Licensed   \r\n",
      "4822  Starbucks  28490-242269      Wynn Palace BOH       Licensed   \r\n",
      "4823  Starbucks  22210-218665  Sands Cotai Central       Licensed   \r\n",
      "4824  Starbucks  17108-179449          One Central       Licensed   \r\n",
      "\r\n",
      "                                         Street Address   City State/Province  \\\r\n",
      "2091                          丰台区, 北京西站通廊7-1号, 中关村南大街2号    北京市             11   \r\n",
      "2092          海淀区, 数码大厦B座华宇时尚购物中心内, 蓝色港湾国际商区1座C1-3单元首层、    北京市             11   \r\n",
      "2093                朝阳区朝阳公园路6号, 二层C1-3单元及二层阳台, 太阳宫中路12号    北京市             11   \r\n",
      "2094                  朝阳区, 太阳宫凯德嘉茂一层01-44/45号, 东三环北路27号    北京市             11   \r\n",
      "2095                      朝阳区, 嘉铭中心大厦A座B1层024商铺, 金融大街7号    北京市             11   \r\n",
      "...                                                 ...    ...            ...   \r\n",
      "4820  Portion of Shop 04, Ground Floor, Sands, Largo...  Macau             92   \r\n",
      "4821             Wynn Macau, Rua Cidada de Sintra, NAPE  Macau             92   \r\n",
      "4822       Employee Entrance Outlet, Wynn Cotai, Resort  Macau             92   \r\n",
      "4823  Shop K201 & K202, Level 02, Parcela 5&6, Estra...  Macau             92   \r\n",
      "4824                       Promenade Rd, Open Area, 2/F  Macau             92   \r\n",
      "\r\n",
      "     Country Postcode   Phone Number                Timezone  Longitude  \\\r\n",
      "2091      CN   100073            NaN  GMT+08:00 Asia/Beijing     116.32   \r\n",
      "2092      CN   100086   010-51626616  GMT+08:00 Asia/Beijing     116.32   \r\n",
      "2093      CN   100020   010-59056343  GMT+08:00 Asia/Beijing     116.47   \r\n",
      "2094      CN   100028   010-84150945  GMT+08:00 Asia/Beijing     116.45   \r\n",
      "2095      CN      NaN            NaN  GMT+08:00 Asia/Beijing     116.46   \r\n",
      "...      ...      ...            ...                     ...        ...   \r\n",
      "4820      CN      NaN  (853)28782773  GMT+08:00 Asia/Beijing     113.55   \r\n",
      "4821      CN      NaN    85328723516  GMT+08:00 Asia/Beijing     113.55   \r\n",
      "4822      CN      NaN            NaN  GMT+08:00 Asia/Beijing     113.54   \r\n",
      "4823      CN      NaN    85328853439  GMT+08:00 Asia/Beijing     113.56   \r\n",
      "4824      CN      NaN            NaN  GMT+08:00 Asia/Beijing     113.55   \r\n",
      "\r\n",
      "      Latitude  \r\n",
      "2091     39.90  \r\n",
      "2092     39.97  \r\n",
      "2093     39.95  \r\n",
      "2094     39.97  \r\n",
      "2095     39.93  \r\n",
      "...        ...  \r\n",
      "4820     22.19  \r\n",
      "4821     22.19  \r\n",
      "4822     22.20  \r\n",
      "4823     22.15  \r\n",
      "4824     22.19  \r\n",
      "\r\n",
      "[2734 rows x 13 columns]\r\n",
      "==============================\r\n",
      "State/Province\r\n",
      "11    236\r\n",
      "12     58\r\n",
      "13     24\r\n",
      "14      8\r\n",
      "15      8\r\n",
      "21     57\r\n",
      "22     13\r\n",
      "23     16\r\n",
      "31    551\r\n",
      "32    354\r\n",
      "33    315\r\n",
      "34     26\r\n",
      "35     75\r\n",
      "36     13\r\n",
      "37     75\r\n",
      "41     21\r\n",
      "42     76\r\n",
      "43     35\r\n",
      "44    333\r\n",
      "45     21\r\n",
      "46     16\r\n",
      "50     41\r\n",
      "51    104\r\n",
      "52      9\r\n",
      "53     24\r\n",
      "61     42\r\n",
      "62      3\r\n",
      "63      3\r\n",
      "64      2\r\n",
      "91    162\r\n",
      "92     13\r\n",
      "Name: Brand, dtype: int64\r\n"
     ]
    }
   ],
   "source": [
    "# 统计中国每个省份的店铺数量\n",
    "china_data = df[df[\"Country\"]==\"CN\"]\n",
    "print(china_data)\n",
    "print(\"=\"*30)\n",
    "\n",
    "grouped = china_data.groupby(by=\"State/Province\")\n",
    "province_count = grouped[\"Brand\"].count()\n",
    "print(province_count)"
   ]
  },
  {
   "cell_type": "code",
   "execution_count": 101,
   "id": "bb44669b-2b8b-4f0b-9b6c-891e29b8786f",
   "metadata": {
    "execution": {
     "iopub.execute_input": "2024-03-18T12:18:23.115434Z",
     "iopub.status.busy": "2024-03-18T12:18:23.114810Z",
     "iopub.status.idle": "2024-03-18T12:18:23.137005Z",
     "shell.execute_reply": "2024-03-18T12:18:23.136356Z",
     "shell.execute_reply.started": "2024-03-18T12:18:23.115406Z"
    },
    "scrolled": true
   },
   "outputs": [
    {
     "name": "stdout",
     "output_type": "stream",
     "text": [
      "Country  State/Province\r\n",
      "AD       7                  1\r\n",
      "AE       AJ                 2\r\n",
      "         AZ                48\r\n",
      "         DU                82\r\n",
      "         FU                 2\r\n",
      "                           ..\r\n",
      "US       WV                25\r\n",
      "         WY                23\r\n",
      "VN       HN                 6\r\n",
      "         SG                19\r\n",
      "ZA       GT                 3\r\n",
      "Name: Brand, Length: 545, dtype: int64\r\n",
      "                        Brand  Store Number\r\n",
      "Country State/Province                     \r\n",
      "AD      7                   1             1\r\n",
      "AE      AJ                  2             2\r\n",
      "        AZ                 48            48\r\n",
      "        DU                 82            82\r\n",
      "        FU                  2             2\r\n",
      "...                       ...           ...\r\n",
      "US      WV                 25            25\r\n",
      "        WY                 23            23\r\n",
      "VN      HN                  6             6\r\n",
      "        SG                 19            19\r\n",
      "ZA      GT                  3             3\r\n",
      "\r\n",
      "[545 rows x 2 columns]\r\n",
      "Brand           2\r\n",
      "Store Number    2\r\n",
      "Name: AJ, dtype: int64\r\n"
     ]
    }
   ],
   "source": [
    "# 如果要同时对国家和省份进行分组\n",
    "# 并获取分组之后的某一部分数据\n",
    "# 并且是混合索引, 和单一索引不同的地方在于传入的是一个列表\n",
    "grouped = df[\"Brand\"].groupby(by=[df[\"Country\"], df[\"State/Province\"]]).count()\n",
    "print(grouped)\n",
    "\n",
    "# 如果要取多列\n",
    "grouped = df[[\"Brand\", \"Store Number\"]].groupby(by=[df[\"Country\"], df[\"State/Province\"]]).count()\n",
    "print(grouped)\n",
    "\n",
    "# 复合索引取值\n",
    "print(grouped.loc[\"AE\"].loc[\"AJ\"])"
   ]
  },
  {
   "cell_type": "code",
   "execution_count": 102,
   "id": "1e5d2ac7-a297-48a5-8f39-5bbc5a460154",
   "metadata": {
    "execution": {
     "iopub.execute_input": "2024-03-18T12:18:23.138585Z",
     "iopub.status.busy": "2024-03-18T12:18:23.137950Z",
     "iopub.status.idle": "2024-03-18T12:18:23.146844Z",
     "shell.execute_reply": "2024-03-18T12:18:23.146219Z",
     "shell.execute_reply.started": "2024-03-18T12:18:23.138558Z"
    },
    "scrolled": true
   },
   "outputs": [
    {
     "name": "stdout",
     "output_type": "stream",
     "text": [
      "MultiIndex([('AD',  '7'),\r\n",
      "            ('AE', 'AJ'),\r\n",
      "            ('AE', 'AZ'),\r\n",
      "            ('AE', 'DU'),\r\n",
      "            ('AE', 'FU'),\r\n",
      "            ('AE', 'RK'),\r\n",
      "            ('AE', 'SH'),\r\n",
      "            ('AE', 'UQ'),\r\n",
      "            ('AR',  'B'),\r\n",
      "            ('AR',  'C'),\r\n",
      "            ...\r\n",
      "            ('US', 'UT'),\r\n",
      "            ('US', 'VA'),\r\n",
      "            ('US', 'VT'),\r\n",
      "            ('US', 'WA'),\r\n",
      "            ('US', 'WI'),\r\n",
      "            ('US', 'WV'),\r\n",
      "            ('US', 'WY'),\r\n",
      "            ('VN', 'HN'),\r\n",
      "            ('VN', 'SG'),\r\n",
      "            ('ZA', 'GT')],\r\n",
      "           names=['Country', 'State/Province'], length=545)\r\n",
      "                        Brand  Store Number\r\n",
      "Country State/Province                     \r\n",
      "AD      7                   1             1\r\n",
      "AE      AJ                  2             2\r\n",
      "        AZ                 48            48\r\n",
      "        DU                 82            82\r\n",
      "        FU                  2             2\r\n",
      "...                       ...           ...\r\n",
      "US      WV                 25            25\r\n",
      "        WY                 23            23\r\n",
      "VN      HN                  6             6\r\n",
      "        SG                 19            19\r\n",
      "ZA      GT                  3             3\r\n",
      "\r\n",
      "[545 rows x 2 columns]\r\n"
     ]
    }
   ],
   "source": [
    "# 索引的方法和属性\n",
    "# 可以看到是复合索引\n",
    "print(grouped.index)\n",
    "\n",
    "# 通过swaplevel方法可以交换标签索引的位置\n",
    "groupe=d = grouped.swaplevel()\n",
    "print(grouped)"
   ]
  },
  {
   "cell_type": "code",
   "execution_count": 103,
   "id": "862828ea-8966-42c7-b716-939fe67ecd5a",
   "metadata": {
    "execution": {
     "iopub.execute_input": "2024-03-18T12:18:23.148405Z",
     "iopub.status.busy": "2024-03-18T12:18:23.147802Z",
     "iopub.status.idle": "2024-03-18T12:18:23.155365Z",
     "shell.execute_reply": "2024-03-18T12:18:23.154688Z",
     "shell.execute_reply.started": "2024-03-18T12:18:23.148379Z"
    },
    "scrolled": true
   },
   "outputs": [
    {
     "name": "stdout",
     "output_type": "stream",
     "text": [
      "   A  B  C  D\r\n",
      "a  0  1  2  3\r\n",
      "b  4  5  6  7\r\n",
      "   A  B  C  D\r\n",
      "C  0  1  2  3\r\n",
      "D  4  5  6  7\r\n"
     ]
    }
   ],
   "source": [
    "ps = pd.DataFrame(np.arange(8).reshape((2, 4)), index=list(\"ab\"), columns=list(\"ABCD\"))\n",
    "print(ps)\n",
    "\n",
    "# 可以重新指定index\n",
    "ps.index = list(\"CD\")\n",
    "print(ps)\n",
    "\n",
    "# 指定某一列作为index\n",
    "# drop的意思是把这一列作为索引之后, 要不要把这一列删掉\n",
    "# df.set_index(\"Country\",drop=False)\n"
   ]
  },
  {
   "cell_type": "markdown",
   "id": "512f9e32-ec7c-4c0d-a5b7-8ac170fbc7ad",
   "metadata": {},
   "source": [
    "1. 使用matplotlib呈现出店铺总数排名前10的国家\n",
    "2. 使用matplotlib呈现出每个中国每个城市的店铺数量"
   ]
  },
  {
   "cell_type": "code",
   "execution_count": 104,
   "id": "a476e725-186e-4af5-9be6-e9907cc60914",
   "metadata": {
    "execution": {
     "iopub.execute_input": "2024-03-18T12:18:23.158675Z",
     "iopub.status.busy": "2024-03-18T12:18:23.158302Z",
     "iopub.status.idle": "2024-03-18T12:18:23.312896Z",
     "shell.execute_reply": "2024-03-18T12:18:23.311866Z",
     "shell.execute_reply.started": "2024-03-18T12:18:23.158650Z"
    },
    "scrolled": true
   },
   "outputs": [
    {
     "name": "stdout",
     "output_type": "stream",
     "text": [
      "<class 'pandas.core.frame.DataFrame'>\r\n",
      "RangeIndex: 25600 entries, 0 to 25599\r\n",
      "Data columns (total 13 columns):\r\n",
      " #   Column          Non-Null Count  Dtype  \r\n",
      "---  ------          --------------  -----  \r\n",
      " 0   Brand           25600 non-null  object \r\n",
      " 1   Store Number    25600 non-null  object \r\n",
      " 2   Store Name      25600 non-null  object \r\n",
      " 3   Ownership Type  25600 non-null  object \r\n",
      " 4   Street Address  25598 non-null  object \r\n",
      " 5   City            25585 non-null  object \r\n",
      " 6   State/Province  25600 non-null  object \r\n",
      " 7   Country         25600 non-null  object \r\n",
      " 8   Postcode        24078 non-null  object \r\n",
      " 9   Phone Number    18739 non-null  object \r\n",
      " 10  Timezone        25600 non-null  object \r\n",
      " 11  Longitude       25599 non-null  float64\r\n",
      " 12  Latitude        25599 non-null  float64\r\n",
      "dtypes: float64(2), object(11)\r\n",
      "memory usage: 2.5+ MB\r\n",
      "None\r\n",
      "       Brand  Store Number     Store Name Ownership Type     Street Address  \\\r\n",
      "0  Starbucks  47370-257954  Meritxell, 96       Licensed  Av. Meritxell, 96   \r\n",
      "\r\n",
      "               City State/Province Country Postcode Phone Number  \\\r\n",
      "0  Andorra la Vella              7      AD    AD500    376818720   \r\n",
      "\r\n",
      "                  Timezone  Longitude  Latitude  \r\n",
      "0  GMT+1:00 Europe/Andorra       1.53     42.51  \r\n",
      "==============================\r\n",
      "         Brand  Store Number  Store Name  Ownership Type  Street Address  \\\r\n",
      "Country                                                                    \r\n",
      "AD           1             1           1               1               1   \r\n",
      "AE         144           144         144             144             144   \r\n",
      "AR         108           108         108             108             108   \r\n",
      "AT          18            18          18              18              18   \r\n",
      "AU          22            22          22              22              22   \r\n",
      "...        ...           ...         ...             ...             ...   \r\n",
      "TT           3             3           3               3               3   \r\n",
      "TW         394           394         394             394             394   \r\n",
      "US       13608         13608       13608           13608           13608   \r\n",
      "VN          25            25          25              25              25   \r\n",
      "ZA           3             3           3               3               3   \r\n",
      "\r\n",
      "          City  State/Province  Postcode  Phone Number  Timezone  Longitude  \\\r\n",
      "Country                                                                       \r\n",
      "AD           1               1         1             1         1          1   \r\n",
      "AE         144             144        24            78       144        144   \r\n",
      "AR         108             108       100            29       108        108   \r\n",
      "AT          18              18        18            17        18         18   \r\n",
      "AU          22              22        22             0        22         22   \r\n",
      "...        ...             ...       ...           ...       ...        ...   \r\n",
      "TT           3               3         3             0         3          3   \r\n",
      "TW         394             394       365            39       394        394   \r\n",
      "US       13608           13608     13607         13122     13608      13608   \r\n",
      "VN          25              25        25            23        25         25   \r\n",
      "ZA           3               3         3             2         3          3   \r\n",
      "\r\n",
      "         Latitude  \r\n",
      "Country            \r\n",
      "AD              1  \r\n",
      "AE            144  \r\n",
      "AR            108  \r\n",
      "AT             18  \r\n",
      "AU             22  \r\n",
      "...           ...  \r\n",
      "TT              3  \r\n",
      "TW            394  \r\n",
      "US          13608  \r\n",
      "VN             25  \r\n",
      "ZA              3  \r\n",
      "\r\n",
      "[73 rows x 12 columns]\r\n",
      "==============================\r\n",
      "Country\r\n",
      "US    13608\r\n",
      "CN     2734\r\n",
      "CA     1468\r\n",
      "JP     1237\r\n",
      "KR      993\r\n",
      "GB      901\r\n",
      "MX      579\r\n",
      "TW      394\r\n",
      "TR      326\r\n",
      "PH      298\r\n",
      "Name: Store Number, dtype: int64\r\n"
     ]
    }
   ],
   "source": [
    "path_file = \"./starbucks_store_worldwide.csv\"\n",
    "df = pd.read_csv(path_file)\n",
    "\n",
    "print(df.info())\n",
    "print(df.head(1))\n",
    "# 准备数据\n",
    "print(\"=\"*30)\n",
    "# 先按照国家来分组, 并统计数值\n",
    "data1 = df.groupby(by=\"Country\").count()\n",
    "print(data1)\n",
    "print(\"=\"*30)\n",
    "# 随后按照店铺数量来排序, 排序完成后取Store Number列的前10行\n",
    "data1 = data1.sort_values(by=\"Store Number\", ascending=False)[\"Store Number\"][:10]\n",
    "print(data1)"
   ]
  },
  {
   "cell_type": "code",
   "execution_count": 105,
   "id": "96e66104-4511-4f05-942a-1a3e0f950b21",
   "metadata": {
    "execution": {
     "iopub.execute_input": "2024-03-18T12:18:23.314734Z",
     "iopub.status.busy": "2024-03-18T12:18:23.314097Z",
     "iopub.status.idle": "2024-03-18T12:18:23.496382Z",
     "shell.execute_reply": "2024-03-18T12:18:23.495464Z",
     "shell.execute_reply.started": "2024-03-18T12:18:23.314705Z"
    },
    "scrolled": true
   },
   "outputs": [
    {
     "data": {
      "image/png": "[encoded data removed]",
      "text/plain": [
       "<Figure size 1600x640 with 1 Axes>"
      ]
     },
     "metadata": {},
     "output_type": "display_data"
    }
   ],
   "source": [
    "_x = data1.index\n",
    "_y = data1.values\n",
    "\n",
    "from matplotlib import pyplot as plt\n",
    "plt.figure(figsize=(20, 8), dpi=80)\n",
    "plt.bar(range(len(_x)), _y)\n",
    "plt.xticks(range(len(_x)), _x)\n",
    "plt.show()"
   ]
  },
  {
   "cell_type": "code",
   "execution_count": 106,
   "id": "38205e4d-b801-4add-90c1-d24ed31f9adb",
   "metadata": {
    "execution": {
     "iopub.execute_input": "2024-03-18T12:18:23.498042Z",
     "iopub.status.busy": "2024-03-18T12:18:23.497630Z",
     "iopub.status.idle": "2024-03-18T12:18:23.915499Z",
     "shell.execute_reply": "2024-03-18T12:18:23.914545Z",
     "shell.execute_reply.started": "2024-03-18T12:18:23.498012Z"
    },
    "scrolled": true
   },
   "outputs": [
    {
     "name": "stdout",
     "output_type": "stream",
     "text": [
      "City\r\n",
      "上海市        542\r\n",
      "北京市        234\r\n",
      "杭州市        117\r\n",
      "深圳市        113\r\n",
      "广州市        106\r\n",
      "          ... \r\n",
      "Nanjing      1\r\n",
      "邢台市          1\r\n",
      "邯郸           1\r\n",
      "黄石市          1\r\n",
      "Central      1\r\n",
      "Name: Store Number, Length: 197, dtype: int64\r\n"
     ]
    },
    {
     "data": {
      "image/png": "[encoded data removed]",
      "text/plain": [
       "<Figure size 1600x640 with 1 Axes>"
      ]
     },
     "metadata": {},
     "output_type": "display_data"
    }
   ],
   "source": [
    "data2 = df[df[\"Country\"]==\"CN\"]\n",
    "data2 = data2.groupby(by=\"City\").count()\n",
    "data2 = data2.sort_values(by=\"Store Number\", ascending=False)[\"Store Number\"]\n",
    "print(data2)\n",
    "\n",
    "_x = data2.index\n",
    "_y = data2.values\n",
    "plt.figure(figsize=(20, 8), dpi=80)\n",
    "plt.bar(range(len(_x)), _y)\n",
    "# plt.xticks(range(len(_x)), _x)\n",
    "plt.show()"
   ]
  },
  {
   "cell_type": "markdown",
   "id": "b2aa0099-2722-4f82-b74e-5d02ae97bc0a",
   "metadata": {},
   "source": [
    "现在我们有全球排名靠前的10000本书的数据，那么请统计一下下面几个问题：\n",
    "1. 不同年份书的数量\n",
    "2. 不同年份书的平均评分情况\n"
   ]
  },
  {
   "cell_type": "code",
   "execution_count": 107,
   "id": "5ba8bbda-1b52-4ba6-836d-3a39c9f5b22a",
   "metadata": {
    "execution": {
     "iopub.execute_input": "2024-03-18T12:18:23.917383Z",
     "iopub.status.busy": "2024-03-18T12:18:23.916709Z",
     "iopub.status.idle": "2024-03-18T12:18:24.014510Z",
     "shell.execute_reply": "2024-03-18T12:18:24.013587Z",
     "shell.execute_reply.started": "2024-03-18T12:18:23.917352Z"
    },
    "scrolled": true
   },
   "outputs": [
    {
     "name": "stdout",
     "output_type": "stream",
     "text": [
      "<class 'pandas.core.frame.DataFrame'>\r\n",
      "RangeIndex: 10000 entries, 0 to 9999\r\n",
      "Data columns (total 23 columns):\r\n",
      " #   Column                     Non-Null Count  Dtype  \r\n",
      "---  ------                     --------------  -----  \r\n",
      " 0   id                         10000 non-null  int64  \r\n",
      " 1   book_id                    10000 non-null  int64  \r\n",
      " 2   best_book_id               10000 non-null  int64  \r\n",
      " 3   work_id                    10000 non-null  int64  \r\n",
      " 4   books_count                10000 non-null  int64  \r\n",
      " 5   isbn                       9300 non-null   object \r\n",
      " 6   isbn13                     9415 non-null   float64\r\n",
      " 7   authors                    10000 non-null  object \r\n",
      " 8   original_publication_year  9979 non-null   float64\r\n",
      " 9   original_title             9415 non-null   object \r\n",
      " 10  title                      10000 non-null  object \r\n",
      " 11  language_code              8916 non-null   object \r\n",
      " 12  average_rating             10000 non-null  float64\r\n",
      " 13  ratings_count              10000 non-null  int64  \r\n",
      " 14  work_ratings_count         10000 non-null  int64  \r\n",
      " 15  work_text_reviews_count    10000 non-null  int64  \r\n",
      " 16  ratings_1                  10000 non-null  int64  \r\n",
      " 17  ratings_2                  10000 non-null  int64  \r\n",
      " 18  ratings_3                  10000 non-null  int64  \r\n",
      " 19  ratings_4                  10000 non-null  int64  \r\n",
      " 20  ratings_5                  10000 non-null  int64  \r\n",
      " 21  image_url                  10000 non-null  object \r\n",
      " 22  small_image_url            10000 non-null  object \r\n",
      "dtypes: float64(3), int64(13), object(7)\r\n",
      "memory usage: 1.8+ MB\r\n",
      "None\r\n",
      "   id  book_id  best_book_id  work_id  books_count       isbn        isbn13  \\\r\n",
      "0   1  2767052       2767052  2792775          272  439023483  9.780439e+12   \r\n",
      "\r\n",
      "           authors  original_publication_year    original_title  ...  \\\r\n",
      "0  Suzanne Collins                     2008.0  The Hunger Games  ...   \r\n",
      "\r\n",
      "  ratings_count work_ratings_count  work_text_reviews_count  ratings_1  \\\r\n",
      "0       4780653            4942365                   155254      66715   \r\n",
      "\r\n",
      "   ratings_2  ratings_3  ratings_4  ratings_5  \\\r\n",
      "0     127936     560092    1481305    2706317   \r\n",
      "\r\n",
      "                                           image_url  \\\r\n",
      "0  https://images.gr-assets.com/books/1447303603m...   \r\n",
      "\r\n",
      "                                     small_image_url  \r\n",
      "0  https://images.gr-assets.com/books/1447303603s...  \r\n",
      "\r\n",
      "[1 rows x 23 columns]\r\n",
      "original_publication_year\r\n",
      "2012.0    568\r\n",
      "2011.0    556\r\n",
      "2013.0    518\r\n",
      "2010.0    473\r\n",
      "2014.0    437\r\n",
      "         ... \r\n",
      "1814.0      1\r\n",
      "1879.0      1\r\n",
      "1867.0      1\r\n",
      "1863.0      1\r\n",
      "1846.0      1\r\n",
      "Name: title, Length: 293, dtype: int64\r\n"
     ]
    }
   ],
   "source": [
    "file_path = \"./books.csv\"\n",
    "df = pd.read_csv(file_path)\n",
    "print(df.info())\n",
    "# 可以看出original_publication_year信息有缺失, 需要删除缺失信息\n",
    "print(df.head(1))\n",
    "\n",
    "data1 = df[pd.notnull(df[\"original_publication_year\"])]\n",
    "# 删除完缺失信息后, 考虑分组取tile列\n",
    "data1 = data1.groupby(by=\"original_publication_year\").count()[\"title\"]\n",
    "# 然后对值进行排序\n",
    "data1 = data1.sort_values(ascending=False)\n",
    "print(data1)"
   ]
  },
  {
   "cell_type": "code",
   "execution_count": 108,
   "id": "5d9ee35e-d534-4a3d-a67e-3dc17954f082",
   "metadata": {
    "execution": {
     "iopub.execute_input": "2024-03-18T12:18:24.016006Z",
     "iopub.status.busy": "2024-03-18T12:18:24.015713Z",
     "iopub.status.idle": "2024-03-18T12:18:24.308546Z",
     "shell.execute_reply": "2024-03-18T12:18:24.307680Z",
     "shell.execute_reply.started": "2024-03-18T12:18:24.015978Z"
    },
    "scrolled": true
   },
   "outputs": [
    {
     "name": "stdout",
     "output_type": "stream",
     "text": [
      "original_publication_year\r\n",
      "-1750.0    3.630000\r\n",
      "-762.0     4.030000\r\n",
      "-750.0     4.005000\r\n",
      "-720.0     3.730000\r\n",
      "-560.0     4.050000\r\n",
      "             ...   \r\n",
      " 2013.0    4.012297\r\n",
      " 2014.0    3.985378\r\n",
      " 2015.0    3.954641\r\n",
      " 2016.0    4.027576\r\n",
      " 2017.0    4.100909\r\n",
      "Name: average_rating, Length: 293, dtype: float64\r\n"
     ]
    },
    {
     "data": {
      "image/png": "[encoded data removed]",
      "text/plain": [
       "<Figure size 1600x640 with 1 Axes>"
      ]
     },
     "metadata": {},
     "output_type": "display_data"
    }
   ],
   "source": [
    "# 不同年份书的平均评分\n",
    "data2 = df[pd.notnull(df[\"original_publication_year\"])]\n",
    "# print(data2)\n",
    "# print(\"=\"*30)\n",
    "grouped = data2[\"average_rating\"].groupby(by=data2[\"original_publication_year\"]).mean()\n",
    "print(grouped)\n",
    "\n",
    "_x=grouped.index\n",
    "_y=grouped.values\n",
    "\n",
    "plt.figure(figsize=(20, 8), dpi=80)\n",
    "plt.plot(range(len(_x)), _y)\n",
    "plt.xticks(range(len(_x))[::10], _x[::10].astype(\"int\"), rotation=45)\n",
    "plt.show()"
   ]
  },
  {
   "cell_type": "markdown",
   "id": "1f734c25-13e7-4608-b55a-c3b6bba47328",
   "metadata": {},
   "source": [
    "现在我们有2015到2017年25万条911的紧急电话的数据，请统计出出这些数据中不同类型的紧急情况的次数，如果我们还想统计出不同月份不同类型紧急电话的次数的变化情况，应该怎么做呢？\n"
   ]
  },
  {
   "cell_type": "code",
   "execution_count": 109,
   "id": "3a7aec64-f5a1-472a-bf93-d96169d82649",
   "metadata": {
    "execution": {
     "iopub.execute_input": "2024-03-18T12:18:24.310495Z",
     "iopub.status.busy": "2024-03-18T12:18:24.309742Z",
     "iopub.status.idle": "2024-03-18T12:18:28.172516Z",
     "shell.execute_reply": "2024-03-18T12:18:28.171733Z",
     "shell.execute_reply.started": "2024-03-18T12:18:24.310468Z"
    },
    "scrolled": true
   },
   "outputs": [
    {
     "name": "stdout",
     "output_type": "stream",
     "text": [
      "<class 'pandas.core.frame.DataFrame'>\r\n",
      "RangeIndex: 663522 entries, 0 to 663521\r\n",
      "Data columns (total 9 columns):\r\n",
      " #   Column     Non-Null Count   Dtype  \r\n",
      "---  ------     --------------   -----  \r\n",
      " 0   lat        663522 non-null  float64\r\n",
      " 1   lng        663522 non-null  float64\r\n",
      " 2   desc       663522 non-null  object \r\n",
      " 3   zip        583323 non-null  float64\r\n",
      " 4   title      663522 non-null  object \r\n",
      " 5   timeStamp  663522 non-null  object \r\n",
      " 6   twp        663229 non-null  object \r\n",
      " 7   addr       663522 non-null  object \r\n",
      " 8   e          663522 non-null  int64  \r\n",
      "dtypes: float64(3), int64(1), object(5)\r\n",
      "memory usage: 45.6+ MB\r\n",
      "None\r\n",
      "         lat        lng                                               desc  \\\r\n",
      "0  40.297876 -75.581294  REINDEER CT & DEAD END;  NEW HANOVER; Station ...   \r\n",
      "\r\n",
      "       zip                   title            timeStamp          twp  \\\r\n",
      "0  19525.0  EMS: BACK PAINS/INJURY  2015-12-10 17:10:52  NEW HANOVER   \r\n",
      "\r\n",
      "                     addr  e  \r\n",
      "0  REINDEER CT & DEAD END  1  \r\n",
      "==============================\r\n",
      "['Fire', 'EMS', 'Traffic']\r\n"
     ]
    }
   ],
   "source": [
    "df = pd.read_csv(\"./911.csv\")\n",
    "print(df.info())\n",
    "print(df.head(1))\n",
    "\n",
    "print(\"=\"*30)\n",
    "# 从titile中可以看出第一个单词就是紧急情况类型\n",
    "# 获取分类\n",
    "data1 = df[\"title\"].str.split(':').tolist()\n",
    "data1 = list(set([i[0] for i in data1]))\n",
    "\n",
    "print(data1)"
   ]
  },
  {
   "cell_type": "code",
   "execution_count": 110,
   "id": "1f2f1940-e75a-4eae-ad45-1d12f7d2eb9a",
   "metadata": {
    "execution": {
     "iopub.execute_input": "2024-03-18T12:18:28.174062Z",
     "iopub.status.busy": "2024-03-18T12:18:28.173524Z",
     "iopub.status.idle": "2024-03-18T12:18:28.926478Z",
     "shell.execute_reply": "2024-03-18T12:18:28.925642Z",
     "shell.execute_reply.started": "2024-03-18T12:18:28.174036Z"
    },
    "scrolled": true
   },
   "outputs": [
    {
     "name": "stdout",
     "output_type": "stream",
     "text": [
      "        Fire  EMS  Traffic\r\n",
      "0        0.0  0.0      0.0\r\n",
      "1        0.0  0.0      0.0\r\n",
      "2        0.0  0.0      0.0\r\n",
      "3        0.0  0.0      0.0\r\n",
      "4        0.0  0.0      0.0\r\n",
      "...      ...  ...      ...\r\n",
      "663517   0.0  0.0      0.0\r\n",
      "663518   0.0  0.0      0.0\r\n",
      "663519   0.0  0.0      0.0\r\n",
      "663520   0.0  0.0      0.0\r\n",
      "663521   0.0  0.0      0.0\r\n",
      "\r\n",
      "[663522 rows x 3 columns]\r\n",
      "        Fire  EMS  Traffic\r\n",
      "0        0.0  1.0      0.0\r\n",
      "1        0.0  1.0      0.0\r\n",
      "2        1.0  0.0      0.0\r\n",
      "3        0.0  1.0      0.0\r\n",
      "4        0.0  1.0      0.0\r\n",
      "...      ...  ...      ...\r\n",
      "663517   0.0  0.0      1.0\r\n",
      "663518   0.0  1.0      0.0\r\n",
      "663519   0.0  1.0      0.0\r\n",
      "663520   1.0  0.0      0.0\r\n",
      "663521   0.0  0.0      1.0\r\n",
      "\r\n",
      "[663522 rows x 3 columns]\r\n",
      "Fire       100622.0\r\n",
      "EMS        332700.0\r\n",
      "Traffic    230208.0\r\n",
      "dtype: float64\r\n"
     ]
    }
   ],
   "source": [
    "# 构造全0数组\n",
    "zeros_df = pd.DataFrame(np.zeros((df.shape[0], len(data1))), columns=data1)\n",
    "print(zeros_df)\n",
    "\n",
    "# 赋值\n",
    "for i in data1:\n",
    "    zeros_df[i][df[\"title\"].str.contains(i)] = 1\n",
    "print(zeros_df)\n",
    "\n",
    "# 求不同类型的总数\n",
    "print(zeros_df.sum(axis=0))"
   ]
  },
  {
   "cell_type": "code",
   "execution_count": 111,
   "id": "5bc73f56-a44d-42de-a278-af53884db99c",
   "metadata": {
    "execution": {
     "iopub.execute_input": "2024-03-18T12:18:28.928288Z",
     "iopub.status.busy": "2024-03-18T12:18:28.927588Z",
     "iopub.status.idle": "2024-03-18T12:18:31.117816Z",
     "shell.execute_reply": "2024-03-18T12:18:31.117025Z",
     "shell.execute_reply.started": "2024-03-18T12:18:28.928257Z"
    },
    "scrolled": true
   },
   "outputs": [
    {
     "name": "stdout",
     "output_type": "stream",
     "text": [
      "         lat        lng                                               desc  \\\r\n",
      "0  40.297876 -75.581294  REINDEER CT & DEAD END;  NEW HANOVER; Station ...   \r\n",
      "1  40.258061 -75.264680  BRIAR PATH & WHITEMARSH LN;  HATFIELD TOWNSHIP...   \r\n",
      "2  40.121182 -75.351975  HAWS AVE; NORRISTOWN; 2015-12-10 @ 14:39:21-St...   \r\n",
      "3  40.116153 -75.343513  AIRY ST & SWEDE ST;  NORRISTOWN; Station 308A;...   \r\n",
      "4  40.251492 -75.603350  CHERRYWOOD CT & DEAD END;  LOWER POTTSGROVE; S...   \r\n",
      "\r\n",
      "       zip                    title            timeStamp                twp  \\\r\n",
      "0  19525.0   EMS: BACK PAINS/INJURY  2015-12-10 17:10:52        NEW HANOVER   \r\n",
      "1  19446.0  EMS: DIABETIC EMERGENCY  2015-12-10 17:29:21  HATFIELD TOWNSHIP   \r\n",
      "2  19401.0      Fire: GAS-ODOR/LEAK  2015-12-10 14:39:21         NORRISTOWN   \r\n",
      "3  19401.0   EMS: CARDIAC EMERGENCY  2015-12-10 16:47:36         NORRISTOWN   \r\n",
      "4      NaN           EMS: DIZZINESS  2015-12-10 16:56:52   LOWER POTTSGROVE   \r\n",
      "\r\n",
      "                         addr  e  cate  \r\n",
      "0      REINDEER CT & DEAD END  1   EMS  \r\n",
      "1  BRIAR PATH & WHITEMARSH LN  1   EMS  \r\n",
      "2                    HAWS AVE  1  Fire  \r\n",
      "3          AIRY ST & SWEDE ST  1   EMS  \r\n",
      "4    CHERRYWOOD CT & DEAD END  1   EMS  \r\n"
     ]
    }
   ],
   "source": [
    "# 可以把事件类型加到每一行后面去\n",
    "data1 = df[\"title\"].str.split(':').tolist()\n",
    "data1 = [i[0] for i in data1]\n",
    "df[\"cate\"] = pd.DataFrame(np.array(data1).reshape((df.shape[0], 1)))\n",
    "print(df.head())\n",
    "\n",
    "# 然后就需要用到时间序列的知识点"
   ]
  }
 ],
 "metadata": {
  "kernelspec": {
   "display_name": "Python 3",
   "language": "python",
   "name": "py35-paddle1.2.0"
  },
  "language_info": {
   "codemirror_mode": {
    "name": "ipython",
    "version": 3
   },
   "file_extension": ".py",
   "mimetype": "text/x-python",
   "name": "python",
   "nbconvert_exporter": "python",
   "pygments_lexer": "ipython3",
   "version": "3.10.10"
  }
 },
 "nbformat": 4,
 "nbformat_minor": 5
}
